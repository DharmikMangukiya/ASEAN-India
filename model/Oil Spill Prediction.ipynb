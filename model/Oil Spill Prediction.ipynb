{
 "cells": [
  {
   "cell_type": "code",
   "execution_count": 244,
   "id": "developing-roulette",
   "metadata": {},
   "outputs": [
    {
     "data": {
      "text/html": [
       "        <script type=\"text/javascript\">\n",
       "        window.PlotlyConfig = {MathJaxConfig: 'local'};\n",
       "        if (window.MathJax) {MathJax.Hub.Config({SVG: {font: \"STIX-Web\"}});}\n",
       "        if (typeof require !== 'undefined') {\n",
       "        require.undef(\"plotly\");\n",
       "        requirejs.config({\n",
       "            paths: {\n",
       "                'plotly': ['https://cdn.plot.ly/plotly-latest.min']\n",
       "            }\n",
       "        });\n",
       "        require(['plotly'], function(Plotly) {\n",
       "            window._Plotly = Plotly;\n",
       "        });\n",
       "        }\n",
       "        </script>\n",
       "        "
      ]
     },
     "metadata": {},
     "output_type": "display_data"
    }
   ],
   "source": [
    "import pandas as pd\n",
    "import numpy as np\n",
    "from plotly.offline import download_plotlyjs, init_notebook_mode, plot, iplot\n",
    "# import plotly.plotly as py\n",
    "import matplotlib.pyplot as plt\n",
    "from matplotlib import pyplot\n",
    "import plotly.graph_objs as go\n",
    "init_notebook_mode(connected=True)"
   ]
  },
  {
   "cell_type": "code",
   "execution_count": 245,
   "id": "mechanical-chance",
   "metadata": {},
   "outputs": [],
   "source": [
    "time_series_df=pd.read_csv('../Data/main/Maritius_AOI_20200701_0731_full.csv')"
   ]
  },
  {
   "cell_type": "code",
   "execution_count": 246,
   "id": "after-penny",
   "metadata": {},
   "outputs": [
    {
     "data": {
      "text/html": [
       "<div>\n",
       "<style scoped>\n",
       "    .dataframe tbody tr th:only-of-type {\n",
       "        vertical-align: middle;\n",
       "    }\n",
       "\n",
       "    .dataframe tbody tr th {\n",
       "        vertical-align: top;\n",
       "    }\n",
       "\n",
       "    .dataframe thead th {\n",
       "        text-align: right;\n",
       "    }\n",
       "</style>\n",
       "<table border=\"1\" class=\"dataframe\">\n",
       "  <thead>\n",
       "    <tr style=\"text-align: right;\">\n",
       "      <th></th>\n",
       "      <th>created_at</th>\n",
       "      <th>timestamp</th>\n",
       "      <th>mmsi</th>\n",
       "      <th>msg_type</th>\n",
       "      <th>latitude</th>\n",
       "      <th>longitude</th>\n",
       "      <th>speed</th>\n",
       "      <th>course</th>\n",
       "      <th>heading</th>\n",
       "      <th>rot</th>\n",
       "      <th>...</th>\n",
       "      <th>ship_and_cargo_type</th>\n",
       "      <th>length</th>\n",
       "      <th>width</th>\n",
       "      <th>eta</th>\n",
       "      <th>destination</th>\n",
       "      <th>status</th>\n",
       "      <th>maneuver</th>\n",
       "      <th>accuracy</th>\n",
       "      <th>collection_type</th>\n",
       "      <th>mmsi_label</th>\n",
       "    </tr>\n",
       "  </thead>\n",
       "  <tbody>\n",
       "    <tr>\n",
       "      <th>0</th>\n",
       "      <td>2020-07-11 07:04:57.112166 UTC</td>\n",
       "      <td>2020-07-11 06:04:17 UTC</td>\n",
       "      <td>353184000</td>\n",
       "      <td>5</td>\n",
       "      <td>-20.473360</td>\n",
       "      <td>58.032080</td>\n",
       "      <td>NaN</td>\n",
       "      <td>NaN</td>\n",
       "      <td>NaN</td>\n",
       "      <td>NaN</td>\n",
       "      <td>...</td>\n",
       "      <td>70.0</td>\n",
       "      <td>229.0</td>\n",
       "      <td>32.0</td>\n",
       "      <td>2020-07-23 08:00:00 UTC</td>\n",
       "      <td>SG SIN PEBGB</td>\n",
       "      <td>NaN</td>\n",
       "      <td>NaN</td>\n",
       "      <td>NaN</td>\n",
       "      <td>satellite</td>\n",
       "      <td>mmsi-353184000</td>\n",
       "    </tr>\n",
       "    <tr>\n",
       "      <th>1</th>\n",
       "      <td>2020-07-12 00:56:20.200298 UTC</td>\n",
       "      <td>2020-07-11 23:46:14 UTC</td>\n",
       "      <td>353184000</td>\n",
       "      <td>5</td>\n",
       "      <td>NaN</td>\n",
       "      <td>NaN</td>\n",
       "      <td>NaN</td>\n",
       "      <td>NaN</td>\n",
       "      <td>NaN</td>\n",
       "      <td>NaN</td>\n",
       "      <td>...</td>\n",
       "      <td>70.0</td>\n",
       "      <td>229.0</td>\n",
       "      <td>32.0</td>\n",
       "      <td>2020-07-23 08:00:00 UTC</td>\n",
       "      <td>SG SIN PEBGB</td>\n",
       "      <td>NaN</td>\n",
       "      <td>NaN</td>\n",
       "      <td>NaN</td>\n",
       "      <td>satellite</td>\n",
       "      <td>mmsi-353184000</td>\n",
       "    </tr>\n",
       "    <tr>\n",
       "      <th>2</th>\n",
       "      <td>2020-07-11 08:45:41.881492 UTC</td>\n",
       "      <td>2020-07-11 04:28:19 UTC</td>\n",
       "      <td>353184000</td>\n",
       "      <td>5</td>\n",
       "      <td>-20.320985</td>\n",
       "      <td>58.280948</td>\n",
       "      <td>NaN</td>\n",
       "      <td>NaN</td>\n",
       "      <td>NaN</td>\n",
       "      <td>NaN</td>\n",
       "      <td>...</td>\n",
       "      <td>70.0</td>\n",
       "      <td>229.0</td>\n",
       "      <td>32.0</td>\n",
       "      <td>2020-07-23 08:00:00 UTC</td>\n",
       "      <td>SG SIN PEBGB</td>\n",
       "      <td>NaN</td>\n",
       "      <td>NaN</td>\n",
       "      <td>NaN</td>\n",
       "      <td>satellite</td>\n",
       "      <td>mmsi-353184000</td>\n",
       "    </tr>\n",
       "    <tr>\n",
       "      <th>3</th>\n",
       "      <td>2020-07-11 09:25:56.264872 UTC</td>\n",
       "      <td>2020-07-11 08:46:26 UTC</td>\n",
       "      <td>353184000</td>\n",
       "      <td>5</td>\n",
       "      <td>-20.300225</td>\n",
       "      <td>58.314785</td>\n",
       "      <td>NaN</td>\n",
       "      <td>NaN</td>\n",
       "      <td>NaN</td>\n",
       "      <td>NaN</td>\n",
       "      <td>...</td>\n",
       "      <td>70.0</td>\n",
       "      <td>229.0</td>\n",
       "      <td>32.0</td>\n",
       "      <td>2020-07-23 08:00:00 UTC</td>\n",
       "      <td>SG SIN PEBGB</td>\n",
       "      <td>NaN</td>\n",
       "      <td>NaN</td>\n",
       "      <td>NaN</td>\n",
       "      <td>satellite</td>\n",
       "      <td>mmsi-353184000</td>\n",
       "    </tr>\n",
       "    <tr>\n",
       "      <th>4</th>\n",
       "      <td>2020-07-11 06:45:30.584085 UTC</td>\n",
       "      <td>2020-07-11 05:58:19 UTC</td>\n",
       "      <td>353184000</td>\n",
       "      <td>5</td>\n",
       "      <td>-20.497120</td>\n",
       "      <td>57.993520</td>\n",
       "      <td>NaN</td>\n",
       "      <td>NaN</td>\n",
       "      <td>NaN</td>\n",
       "      <td>NaN</td>\n",
       "      <td>...</td>\n",
       "      <td>70.0</td>\n",
       "      <td>229.0</td>\n",
       "      <td>32.0</td>\n",
       "      <td>2020-07-23 08:00:00 UTC</td>\n",
       "      <td>SG SIN PEBGB</td>\n",
       "      <td>NaN</td>\n",
       "      <td>NaN</td>\n",
       "      <td>NaN</td>\n",
       "      <td>satellite</td>\n",
       "      <td>mmsi-353184000</td>\n",
       "    </tr>\n",
       "  </tbody>\n",
       "</table>\n",
       "<p>5 rows × 25 columns</p>\n",
       "</div>"
      ],
      "text/plain": [
       "                       created_at                timestamp       mmsi  \\\n",
       "0  2020-07-11 07:04:57.112166 UTC  2020-07-11 06:04:17 UTC  353184000   \n",
       "1  2020-07-12 00:56:20.200298 UTC  2020-07-11 23:46:14 UTC  353184000   \n",
       "2  2020-07-11 08:45:41.881492 UTC  2020-07-11 04:28:19 UTC  353184000   \n",
       "3  2020-07-11 09:25:56.264872 UTC  2020-07-11 08:46:26 UTC  353184000   \n",
       "4  2020-07-11 06:45:30.584085 UTC  2020-07-11 05:58:19 UTC  353184000   \n",
       "\n",
       "   msg_type   latitude  longitude  speed  course  heading  rot  ...  \\\n",
       "0         5 -20.473360  58.032080    NaN     NaN      NaN  NaN  ...   \n",
       "1         5        NaN        NaN    NaN     NaN      NaN  NaN  ...   \n",
       "2         5 -20.320985  58.280948    NaN     NaN      NaN  NaN  ...   \n",
       "3         5 -20.300225  58.314785    NaN     NaN      NaN  NaN  ...   \n",
       "4         5 -20.497120  57.993520    NaN     NaN      NaN  NaN  ...   \n",
       "\n",
       "   ship_and_cargo_type length width                      eta   destination  \\\n",
       "0                 70.0  229.0  32.0  2020-07-23 08:00:00 UTC  SG SIN PEBGB   \n",
       "1                 70.0  229.0  32.0  2020-07-23 08:00:00 UTC  SG SIN PEBGB   \n",
       "2                 70.0  229.0  32.0  2020-07-23 08:00:00 UTC  SG SIN PEBGB   \n",
       "3                 70.0  229.0  32.0  2020-07-23 08:00:00 UTC  SG SIN PEBGB   \n",
       "4                 70.0  229.0  32.0  2020-07-23 08:00:00 UTC  SG SIN PEBGB   \n",
       "\n",
       "   status  maneuver  accuracy collection_type      mmsi_label  \n",
       "0     NaN       NaN       NaN       satellite  mmsi-353184000  \n",
       "1     NaN       NaN       NaN       satellite  mmsi-353184000  \n",
       "2     NaN       NaN       NaN       satellite  mmsi-353184000  \n",
       "3     NaN       NaN       NaN       satellite  mmsi-353184000  \n",
       "4     NaN       NaN       NaN       satellite  mmsi-353184000  \n",
       "\n",
       "[5 rows x 25 columns]"
      ]
     },
     "execution_count": 246,
     "metadata": {},
     "output_type": "execute_result"
    }
   ],
   "source": [
    "time_series_df.head()\n"
   ]
  },
  {
   "cell_type": "code",
   "execution_count": 247,
   "id": "waiting-fashion",
   "metadata": {},
   "outputs": [],
   "source": [
    "time_series_df.sort_values(by=['timestamp'], inplace=True)"
   ]
  },
  {
   "cell_type": "code",
   "execution_count": 248,
   "id": "secret-pakistan",
   "metadata": {},
   "outputs": [
    {
     "data": {
      "text/html": [
       "<div>\n",
       "<style scoped>\n",
       "    .dataframe tbody tr th:only-of-type {\n",
       "        vertical-align: middle;\n",
       "    }\n",
       "\n",
       "    .dataframe tbody tr th {\n",
       "        vertical-align: top;\n",
       "    }\n",
       "\n",
       "    .dataframe thead th {\n",
       "        text-align: right;\n",
       "    }\n",
       "</style>\n",
       "<table border=\"1\" class=\"dataframe\">\n",
       "  <thead>\n",
       "    <tr style=\"text-align: right;\">\n",
       "      <th></th>\n",
       "      <th>created_at</th>\n",
       "      <th>timestamp</th>\n",
       "      <th>mmsi</th>\n",
       "      <th>msg_type</th>\n",
       "      <th>latitude</th>\n",
       "      <th>longitude</th>\n",
       "      <th>speed</th>\n",
       "      <th>course</th>\n",
       "      <th>heading</th>\n",
       "      <th>rot</th>\n",
       "      <th>...</th>\n",
       "      <th>ship_and_cargo_type</th>\n",
       "      <th>length</th>\n",
       "      <th>width</th>\n",
       "      <th>eta</th>\n",
       "      <th>destination</th>\n",
       "      <th>status</th>\n",
       "      <th>maneuver</th>\n",
       "      <th>accuracy</th>\n",
       "      <th>collection_type</th>\n",
       "      <th>mmsi_label</th>\n",
       "    </tr>\n",
       "  </thead>\n",
       "  <tbody>\n",
       "    <tr>\n",
       "      <th>10542</th>\n",
       "      <td>2020-07-01 12:16:25.371996 UTC</td>\n",
       "      <td>2020-07-01 12:00:17 UTC</td>\n",
       "      <td>538007271</td>\n",
       "      <td>1</td>\n",
       "      <td>-20.469147</td>\n",
       "      <td>58.065653</td>\n",
       "      <td>12.1</td>\n",
       "      <td>54.5</td>\n",
       "      <td>55.0</td>\n",
       "      <td>0.0</td>\n",
       "      <td>...</td>\n",
       "      <td>NaN</td>\n",
       "      <td>NaN</td>\n",
       "      <td>NaN</td>\n",
       "      <td>NaN</td>\n",
       "      <td>NaN</td>\n",
       "      <td>0.0</td>\n",
       "      <td>0.0</td>\n",
       "      <td>0.0</td>\n",
       "      <td>satellite</td>\n",
       "      <td>mmsi-538007271</td>\n",
       "    </tr>\n",
       "    <tr>\n",
       "      <th>10540</th>\n",
       "      <td>2020-07-01 12:16:25.371996 UTC</td>\n",
       "      <td>2020-07-01 12:00:28 UTC</td>\n",
       "      <td>538007271</td>\n",
       "      <td>1</td>\n",
       "      <td>-20.468800</td>\n",
       "      <td>58.066133</td>\n",
       "      <td>12.1</td>\n",
       "      <td>54.0</td>\n",
       "      <td>55.0</td>\n",
       "      <td>0.0</td>\n",
       "      <td>...</td>\n",
       "      <td>NaN</td>\n",
       "      <td>NaN</td>\n",
       "      <td>NaN</td>\n",
       "      <td>NaN</td>\n",
       "      <td>NaN</td>\n",
       "      <td>0.0</td>\n",
       "      <td>0.0</td>\n",
       "      <td>0.0</td>\n",
       "      <td>satellite</td>\n",
       "      <td>mmsi-538007271</td>\n",
       "    </tr>\n",
       "    <tr>\n",
       "      <th>21417</th>\n",
       "      <td>2020-07-01 12:16:09.704405 UTC</td>\n",
       "      <td>2020-07-01 12:01:28 UTC</td>\n",
       "      <td>538007271</td>\n",
       "      <td>1</td>\n",
       "      <td>-20.466800</td>\n",
       "      <td>58.069067</td>\n",
       "      <td>12.3</td>\n",
       "      <td>54.2</td>\n",
       "      <td>57.0</td>\n",
       "      <td>0.0</td>\n",
       "      <td>...</td>\n",
       "      <td>NaN</td>\n",
       "      <td>NaN</td>\n",
       "      <td>NaN</td>\n",
       "      <td>NaN</td>\n",
       "      <td>NaN</td>\n",
       "      <td>0.0</td>\n",
       "      <td>0.0</td>\n",
       "      <td>0.0</td>\n",
       "      <td>satellite</td>\n",
       "      <td>mmsi-538007271</td>\n",
       "    </tr>\n",
       "    <tr>\n",
       "      <th>26983</th>\n",
       "      <td>2020-07-01 12:34:10.282561 UTC</td>\n",
       "      <td>2020-07-01 12:08:37 UTC</td>\n",
       "      <td>538007271</td>\n",
       "      <td>1</td>\n",
       "      <td>-20.452747</td>\n",
       "      <td>58.090373</td>\n",
       "      <td>12.4</td>\n",
       "      <td>54.6</td>\n",
       "      <td>56.0</td>\n",
       "      <td>0.0</td>\n",
       "      <td>...</td>\n",
       "      <td>NaN</td>\n",
       "      <td>NaN</td>\n",
       "      <td>NaN</td>\n",
       "      <td>NaN</td>\n",
       "      <td>NaN</td>\n",
       "      <td>0.0</td>\n",
       "      <td>0.0</td>\n",
       "      <td>0.0</td>\n",
       "      <td>satellite</td>\n",
       "      <td>mmsi-538007271</td>\n",
       "    </tr>\n",
       "    <tr>\n",
       "      <th>15975</th>\n",
       "      <td>2020-07-01 12:34:10.282561 UTC</td>\n",
       "      <td>2020-07-01 12:10:06 UTC</td>\n",
       "      <td>538007271</td>\n",
       "      <td>1</td>\n",
       "      <td>-20.449760</td>\n",
       "      <td>58.094827</td>\n",
       "      <td>12.2</td>\n",
       "      <td>54.5</td>\n",
       "      <td>56.0</td>\n",
       "      <td>0.0</td>\n",
       "      <td>...</td>\n",
       "      <td>NaN</td>\n",
       "      <td>NaN</td>\n",
       "      <td>NaN</td>\n",
       "      <td>NaN</td>\n",
       "      <td>NaN</td>\n",
       "      <td>0.0</td>\n",
       "      <td>0.0</td>\n",
       "      <td>0.0</td>\n",
       "      <td>satellite</td>\n",
       "      <td>mmsi-538007271</td>\n",
       "    </tr>\n",
       "  </tbody>\n",
       "</table>\n",
       "<p>5 rows × 25 columns</p>\n",
       "</div>"
      ],
      "text/plain": [
       "                           created_at                timestamp       mmsi  \\\n",
       "10542  2020-07-01 12:16:25.371996 UTC  2020-07-01 12:00:17 UTC  538007271   \n",
       "10540  2020-07-01 12:16:25.371996 UTC  2020-07-01 12:00:28 UTC  538007271   \n",
       "21417  2020-07-01 12:16:09.704405 UTC  2020-07-01 12:01:28 UTC  538007271   \n",
       "26983  2020-07-01 12:34:10.282561 UTC  2020-07-01 12:08:37 UTC  538007271   \n",
       "15975  2020-07-01 12:34:10.282561 UTC  2020-07-01 12:10:06 UTC  538007271   \n",
       "\n",
       "       msg_type   latitude  longitude  speed  course  heading  rot  ...  \\\n",
       "10542         1 -20.469147  58.065653   12.1    54.5     55.0  0.0  ...   \n",
       "10540         1 -20.468800  58.066133   12.1    54.0     55.0  0.0  ...   \n",
       "21417         1 -20.466800  58.069067   12.3    54.2     57.0  0.0  ...   \n",
       "26983         1 -20.452747  58.090373   12.4    54.6     56.0  0.0  ...   \n",
       "15975         1 -20.449760  58.094827   12.2    54.5     56.0  0.0  ...   \n",
       "\n",
       "       ship_and_cargo_type length width  eta  destination  status  maneuver  \\\n",
       "10542                  NaN    NaN   NaN  NaN          NaN     0.0       0.0   \n",
       "10540                  NaN    NaN   NaN  NaN          NaN     0.0       0.0   \n",
       "21417                  NaN    NaN   NaN  NaN          NaN     0.0       0.0   \n",
       "26983                  NaN    NaN   NaN  NaN          NaN     0.0       0.0   \n",
       "15975                  NaN    NaN   NaN  NaN          NaN     0.0       0.0   \n",
       "\n",
       "       accuracy collection_type      mmsi_label  \n",
       "10542       0.0       satellite  mmsi-538007271  \n",
       "10540       0.0       satellite  mmsi-538007271  \n",
       "21417       0.0       satellite  mmsi-538007271  \n",
       "26983       0.0       satellite  mmsi-538007271  \n",
       "15975       0.0       satellite  mmsi-538007271  \n",
       "\n",
       "[5 rows x 25 columns]"
      ]
     },
     "execution_count": 248,
     "metadata": {},
     "output_type": "execute_result"
    }
   ],
   "source": [
    "time_series_df.head()\n"
   ]
  },
  {
   "cell_type": "code",
   "execution_count": 249,
   "id": "rising-excitement",
   "metadata": {},
   "outputs": [
    {
     "name": "stdout",
     "output_type": "stream",
     "text": [
      "Empty DataFrame\n",
      "Columns: [created_at, timestamp, mmsi, msg_type, latitude, longitude, speed, course, heading, rot, imo, name, call_sign, flag, draught, ship_and_cargo_type, length, width, eta, destination, status, maneuver, accuracy, collection_type, mmsi_label]\n",
      "Index: []\n",
      "\n",
      "[0 rows x 25 columns]\n"
     ]
    }
   ],
   "source": [
    "print(time_series_df.loc[time_series_df['timestamp'] == '2020-07'])"
   ]
  },
  {
   "cell_type": "code",
   "execution_count": 250,
   "id": "educational-proposal",
   "metadata": {},
   "outputs": [],
   "source": [
    "time_sorted_df = time_series_df.sort_values(by=['timestamp'], inplace=True)"
   ]
  },
  {
   "cell_type": "code",
   "execution_count": 251,
   "id": "downtown-boutique",
   "metadata": {},
   "outputs": [
    {
     "data": {
      "text/html": [
       "<div>\n",
       "<style scoped>\n",
       "    .dataframe tbody tr th:only-of-type {\n",
       "        vertical-align: middle;\n",
       "    }\n",
       "\n",
       "    .dataframe tbody tr th {\n",
       "        vertical-align: top;\n",
       "    }\n",
       "\n",
       "    .dataframe thead th {\n",
       "        text-align: right;\n",
       "    }\n",
       "</style>\n",
       "<table border=\"1\" class=\"dataframe\">\n",
       "  <thead>\n",
       "    <tr style=\"text-align: right;\">\n",
       "      <th></th>\n",
       "      <th>created_at</th>\n",
       "      <th>timestamp</th>\n",
       "      <th>mmsi</th>\n",
       "      <th>msg_type</th>\n",
       "      <th>latitude</th>\n",
       "      <th>longitude</th>\n",
       "      <th>speed</th>\n",
       "      <th>course</th>\n",
       "      <th>heading</th>\n",
       "      <th>rot</th>\n",
       "      <th>...</th>\n",
       "      <th>ship_and_cargo_type</th>\n",
       "      <th>length</th>\n",
       "      <th>width</th>\n",
       "      <th>eta</th>\n",
       "      <th>destination</th>\n",
       "      <th>status</th>\n",
       "      <th>maneuver</th>\n",
       "      <th>accuracy</th>\n",
       "      <th>collection_type</th>\n",
       "      <th>mmsi_label</th>\n",
       "    </tr>\n",
       "  </thead>\n",
       "  <tbody>\n",
       "    <tr>\n",
       "      <th>10542</th>\n",
       "      <td>2020-07-01 12:16:25.371996 UTC</td>\n",
       "      <td>2020-07-01 12:00:17 UTC</td>\n",
       "      <td>538007271</td>\n",
       "      <td>1</td>\n",
       "      <td>-20.469147</td>\n",
       "      <td>58.065653</td>\n",
       "      <td>12.1</td>\n",
       "      <td>54.5</td>\n",
       "      <td>55.0</td>\n",
       "      <td>0.0</td>\n",
       "      <td>...</td>\n",
       "      <td>NaN</td>\n",
       "      <td>NaN</td>\n",
       "      <td>NaN</td>\n",
       "      <td>NaN</td>\n",
       "      <td>NaN</td>\n",
       "      <td>0.0</td>\n",
       "      <td>0.0</td>\n",
       "      <td>0.0</td>\n",
       "      <td>satellite</td>\n",
       "      <td>mmsi-538007271</td>\n",
       "    </tr>\n",
       "    <tr>\n",
       "      <th>10540</th>\n",
       "      <td>2020-07-01 12:16:25.371996 UTC</td>\n",
       "      <td>2020-07-01 12:00:28 UTC</td>\n",
       "      <td>538007271</td>\n",
       "      <td>1</td>\n",
       "      <td>-20.468800</td>\n",
       "      <td>58.066133</td>\n",
       "      <td>12.1</td>\n",
       "      <td>54.0</td>\n",
       "      <td>55.0</td>\n",
       "      <td>0.0</td>\n",
       "      <td>...</td>\n",
       "      <td>NaN</td>\n",
       "      <td>NaN</td>\n",
       "      <td>NaN</td>\n",
       "      <td>NaN</td>\n",
       "      <td>NaN</td>\n",
       "      <td>0.0</td>\n",
       "      <td>0.0</td>\n",
       "      <td>0.0</td>\n",
       "      <td>satellite</td>\n",
       "      <td>mmsi-538007271</td>\n",
       "    </tr>\n",
       "    <tr>\n",
       "      <th>21417</th>\n",
       "      <td>2020-07-01 12:16:09.704405 UTC</td>\n",
       "      <td>2020-07-01 12:01:28 UTC</td>\n",
       "      <td>538007271</td>\n",
       "      <td>1</td>\n",
       "      <td>-20.466800</td>\n",
       "      <td>58.069067</td>\n",
       "      <td>12.3</td>\n",
       "      <td>54.2</td>\n",
       "      <td>57.0</td>\n",
       "      <td>0.0</td>\n",
       "      <td>...</td>\n",
       "      <td>NaN</td>\n",
       "      <td>NaN</td>\n",
       "      <td>NaN</td>\n",
       "      <td>NaN</td>\n",
       "      <td>NaN</td>\n",
       "      <td>0.0</td>\n",
       "      <td>0.0</td>\n",
       "      <td>0.0</td>\n",
       "      <td>satellite</td>\n",
       "      <td>mmsi-538007271</td>\n",
       "    </tr>\n",
       "    <tr>\n",
       "      <th>26983</th>\n",
       "      <td>2020-07-01 12:34:10.282561 UTC</td>\n",
       "      <td>2020-07-01 12:08:37 UTC</td>\n",
       "      <td>538007271</td>\n",
       "      <td>1</td>\n",
       "      <td>-20.452747</td>\n",
       "      <td>58.090373</td>\n",
       "      <td>12.4</td>\n",
       "      <td>54.6</td>\n",
       "      <td>56.0</td>\n",
       "      <td>0.0</td>\n",
       "      <td>...</td>\n",
       "      <td>NaN</td>\n",
       "      <td>NaN</td>\n",
       "      <td>NaN</td>\n",
       "      <td>NaN</td>\n",
       "      <td>NaN</td>\n",
       "      <td>0.0</td>\n",
       "      <td>0.0</td>\n",
       "      <td>0.0</td>\n",
       "      <td>satellite</td>\n",
       "      <td>mmsi-538007271</td>\n",
       "    </tr>\n",
       "    <tr>\n",
       "      <th>15975</th>\n",
       "      <td>2020-07-01 12:34:10.282561 UTC</td>\n",
       "      <td>2020-07-01 12:10:06 UTC</td>\n",
       "      <td>538007271</td>\n",
       "      <td>1</td>\n",
       "      <td>-20.449760</td>\n",
       "      <td>58.094827</td>\n",
       "      <td>12.2</td>\n",
       "      <td>54.5</td>\n",
       "      <td>56.0</td>\n",
       "      <td>0.0</td>\n",
       "      <td>...</td>\n",
       "      <td>NaN</td>\n",
       "      <td>NaN</td>\n",
       "      <td>NaN</td>\n",
       "      <td>NaN</td>\n",
       "      <td>NaN</td>\n",
       "      <td>0.0</td>\n",
       "      <td>0.0</td>\n",
       "      <td>0.0</td>\n",
       "      <td>satellite</td>\n",
       "      <td>mmsi-538007271</td>\n",
       "    </tr>\n",
       "  </tbody>\n",
       "</table>\n",
       "<p>5 rows × 25 columns</p>\n",
       "</div>"
      ],
      "text/plain": [
       "                           created_at                timestamp       mmsi  \\\n",
       "10542  2020-07-01 12:16:25.371996 UTC  2020-07-01 12:00:17 UTC  538007271   \n",
       "10540  2020-07-01 12:16:25.371996 UTC  2020-07-01 12:00:28 UTC  538007271   \n",
       "21417  2020-07-01 12:16:09.704405 UTC  2020-07-01 12:01:28 UTC  538007271   \n",
       "26983  2020-07-01 12:34:10.282561 UTC  2020-07-01 12:08:37 UTC  538007271   \n",
       "15975  2020-07-01 12:34:10.282561 UTC  2020-07-01 12:10:06 UTC  538007271   \n",
       "\n",
       "       msg_type   latitude  longitude  speed  course  heading  rot  ...  \\\n",
       "10542         1 -20.469147  58.065653   12.1    54.5     55.0  0.0  ...   \n",
       "10540         1 -20.468800  58.066133   12.1    54.0     55.0  0.0  ...   \n",
       "21417         1 -20.466800  58.069067   12.3    54.2     57.0  0.0  ...   \n",
       "26983         1 -20.452747  58.090373   12.4    54.6     56.0  0.0  ...   \n",
       "15975         1 -20.449760  58.094827   12.2    54.5     56.0  0.0  ...   \n",
       "\n",
       "       ship_and_cargo_type length width  eta  destination  status  maneuver  \\\n",
       "10542                  NaN    NaN   NaN  NaN          NaN     0.0       0.0   \n",
       "10540                  NaN    NaN   NaN  NaN          NaN     0.0       0.0   \n",
       "21417                  NaN    NaN   NaN  NaN          NaN     0.0       0.0   \n",
       "26983                  NaN    NaN   NaN  NaN          NaN     0.0       0.0   \n",
       "15975                  NaN    NaN   NaN  NaN          NaN     0.0       0.0   \n",
       "\n",
       "       accuracy collection_type      mmsi_label  \n",
       "10542       0.0       satellite  mmsi-538007271  \n",
       "10540       0.0       satellite  mmsi-538007271  \n",
       "21417       0.0       satellite  mmsi-538007271  \n",
       "26983       0.0       satellite  mmsi-538007271  \n",
       "15975       0.0       satellite  mmsi-538007271  \n",
       "\n",
       "[5 rows x 25 columns]"
      ]
     },
     "execution_count": 251,
     "metadata": {},
     "output_type": "execute_result"
    }
   ],
   "source": [
    "time_series_df.head()"
   ]
  },
  {
   "cell_type": "code",
   "execution_count": 252,
   "id": "optional-consciousness",
   "metadata": {},
   "outputs": [
    {
     "data": {
      "text/html": [
       "<div>\n",
       "<style scoped>\n",
       "    .dataframe tbody tr th:only-of-type {\n",
       "        vertical-align: middle;\n",
       "    }\n",
       "\n",
       "    .dataframe tbody tr th {\n",
       "        vertical-align: top;\n",
       "    }\n",
       "\n",
       "    .dataframe thead th {\n",
       "        text-align: right;\n",
       "    }\n",
       "</style>\n",
       "<table border=\"1\" class=\"dataframe\">\n",
       "  <thead>\n",
       "    <tr style=\"text-align: right;\">\n",
       "      <th></th>\n",
       "      <th>created_at</th>\n",
       "      <th>timestamp</th>\n",
       "      <th>mmsi</th>\n",
       "      <th>msg_type</th>\n",
       "      <th>latitude</th>\n",
       "      <th>longitude</th>\n",
       "      <th>speed</th>\n",
       "      <th>course</th>\n",
       "      <th>heading</th>\n",
       "      <th>rot</th>\n",
       "      <th>...</th>\n",
       "      <th>ship_and_cargo_type</th>\n",
       "      <th>length</th>\n",
       "      <th>width</th>\n",
       "      <th>eta</th>\n",
       "      <th>destination</th>\n",
       "      <th>status</th>\n",
       "      <th>maneuver</th>\n",
       "      <th>accuracy</th>\n",
       "      <th>collection_type</th>\n",
       "      <th>mmsi_label</th>\n",
       "    </tr>\n",
       "  </thead>\n",
       "  <tbody>\n",
       "    <tr>\n",
       "      <th>10542</th>\n",
       "      <td>2020-07-01 12:16:25.371996 UTC</td>\n",
       "      <td>2020-07-01 12:00:17 UTC</td>\n",
       "      <td>538007271</td>\n",
       "      <td>1</td>\n",
       "      <td>-20.469147</td>\n",
       "      <td>58.065653</td>\n",
       "      <td>12.1</td>\n",
       "      <td>54.5</td>\n",
       "      <td>55.0</td>\n",
       "      <td>0.0</td>\n",
       "      <td>...</td>\n",
       "      <td>NaN</td>\n",
       "      <td>NaN</td>\n",
       "      <td>NaN</td>\n",
       "      <td>NaN</td>\n",
       "      <td>NaN</td>\n",
       "      <td>0.0</td>\n",
       "      <td>0.0</td>\n",
       "      <td>0.0</td>\n",
       "      <td>satellite</td>\n",
       "      <td>mmsi-538007271</td>\n",
       "    </tr>\n",
       "    <tr>\n",
       "      <th>10540</th>\n",
       "      <td>2020-07-01 12:16:25.371996 UTC</td>\n",
       "      <td>2020-07-01 12:00:28 UTC</td>\n",
       "      <td>538007271</td>\n",
       "      <td>1</td>\n",
       "      <td>-20.468800</td>\n",
       "      <td>58.066133</td>\n",
       "      <td>12.1</td>\n",
       "      <td>54.0</td>\n",
       "      <td>55.0</td>\n",
       "      <td>0.0</td>\n",
       "      <td>...</td>\n",
       "      <td>NaN</td>\n",
       "      <td>NaN</td>\n",
       "      <td>NaN</td>\n",
       "      <td>NaN</td>\n",
       "      <td>NaN</td>\n",
       "      <td>0.0</td>\n",
       "      <td>0.0</td>\n",
       "      <td>0.0</td>\n",
       "      <td>satellite</td>\n",
       "      <td>mmsi-538007271</td>\n",
       "    </tr>\n",
       "    <tr>\n",
       "      <th>21417</th>\n",
       "      <td>2020-07-01 12:16:09.704405 UTC</td>\n",
       "      <td>2020-07-01 12:01:28 UTC</td>\n",
       "      <td>538007271</td>\n",
       "      <td>1</td>\n",
       "      <td>-20.466800</td>\n",
       "      <td>58.069067</td>\n",
       "      <td>12.3</td>\n",
       "      <td>54.2</td>\n",
       "      <td>57.0</td>\n",
       "      <td>0.0</td>\n",
       "      <td>...</td>\n",
       "      <td>NaN</td>\n",
       "      <td>NaN</td>\n",
       "      <td>NaN</td>\n",
       "      <td>NaN</td>\n",
       "      <td>NaN</td>\n",
       "      <td>0.0</td>\n",
       "      <td>0.0</td>\n",
       "      <td>0.0</td>\n",
       "      <td>satellite</td>\n",
       "      <td>mmsi-538007271</td>\n",
       "    </tr>\n",
       "    <tr>\n",
       "      <th>26983</th>\n",
       "      <td>2020-07-01 12:34:10.282561 UTC</td>\n",
       "      <td>2020-07-01 12:08:37 UTC</td>\n",
       "      <td>538007271</td>\n",
       "      <td>1</td>\n",
       "      <td>-20.452747</td>\n",
       "      <td>58.090373</td>\n",
       "      <td>12.4</td>\n",
       "      <td>54.6</td>\n",
       "      <td>56.0</td>\n",
       "      <td>0.0</td>\n",
       "      <td>...</td>\n",
       "      <td>NaN</td>\n",
       "      <td>NaN</td>\n",
       "      <td>NaN</td>\n",
       "      <td>NaN</td>\n",
       "      <td>NaN</td>\n",
       "      <td>0.0</td>\n",
       "      <td>0.0</td>\n",
       "      <td>0.0</td>\n",
       "      <td>satellite</td>\n",
       "      <td>mmsi-538007271</td>\n",
       "    </tr>\n",
       "    <tr>\n",
       "      <th>15975</th>\n",
       "      <td>2020-07-01 12:34:10.282561 UTC</td>\n",
       "      <td>2020-07-01 12:10:06 UTC</td>\n",
       "      <td>538007271</td>\n",
       "      <td>1</td>\n",
       "      <td>-20.449760</td>\n",
       "      <td>58.094827</td>\n",
       "      <td>12.2</td>\n",
       "      <td>54.5</td>\n",
       "      <td>56.0</td>\n",
       "      <td>0.0</td>\n",
       "      <td>...</td>\n",
       "      <td>NaN</td>\n",
       "      <td>NaN</td>\n",
       "      <td>NaN</td>\n",
       "      <td>NaN</td>\n",
       "      <td>NaN</td>\n",
       "      <td>0.0</td>\n",
       "      <td>0.0</td>\n",
       "      <td>0.0</td>\n",
       "      <td>satellite</td>\n",
       "      <td>mmsi-538007271</td>\n",
       "    </tr>\n",
       "  </tbody>\n",
       "</table>\n",
       "<p>5 rows × 25 columns</p>\n",
       "</div>"
      ],
      "text/plain": [
       "                           created_at                timestamp       mmsi  \\\n",
       "10542  2020-07-01 12:16:25.371996 UTC  2020-07-01 12:00:17 UTC  538007271   \n",
       "10540  2020-07-01 12:16:25.371996 UTC  2020-07-01 12:00:28 UTC  538007271   \n",
       "21417  2020-07-01 12:16:09.704405 UTC  2020-07-01 12:01:28 UTC  538007271   \n",
       "26983  2020-07-01 12:34:10.282561 UTC  2020-07-01 12:08:37 UTC  538007271   \n",
       "15975  2020-07-01 12:34:10.282561 UTC  2020-07-01 12:10:06 UTC  538007271   \n",
       "\n",
       "       msg_type   latitude  longitude  speed  course  heading  rot  ...  \\\n",
       "10542         1 -20.469147  58.065653   12.1    54.5     55.0  0.0  ...   \n",
       "10540         1 -20.468800  58.066133   12.1    54.0     55.0  0.0  ...   \n",
       "21417         1 -20.466800  58.069067   12.3    54.2     57.0  0.0  ...   \n",
       "26983         1 -20.452747  58.090373   12.4    54.6     56.0  0.0  ...   \n",
       "15975         1 -20.449760  58.094827   12.2    54.5     56.0  0.0  ...   \n",
       "\n",
       "       ship_and_cargo_type length width  eta  destination  status  maneuver  \\\n",
       "10542                  NaN    NaN   NaN  NaN          NaN     0.0       0.0   \n",
       "10540                  NaN    NaN   NaN  NaN          NaN     0.0       0.0   \n",
       "21417                  NaN    NaN   NaN  NaN          NaN     0.0       0.0   \n",
       "26983                  NaN    NaN   NaN  NaN          NaN     0.0       0.0   \n",
       "15975                  NaN    NaN   NaN  NaN          NaN     0.0       0.0   \n",
       "\n",
       "       accuracy collection_type      mmsi_label  \n",
       "10542       0.0       satellite  mmsi-538007271  \n",
       "10540       0.0       satellite  mmsi-538007271  \n",
       "21417       0.0       satellite  mmsi-538007271  \n",
       "26983       0.0       satellite  mmsi-538007271  \n",
       "15975       0.0       satellite  mmsi-538007271  \n",
       "\n",
       "[5 rows x 25 columns]"
      ]
     },
     "execution_count": 252,
     "metadata": {},
     "output_type": "execute_result"
    }
   ],
   "source": [
    "time_series_df.head()\n"
   ]
  },
  {
   "cell_type": "code",
   "execution_count": 253,
   "id": "driven-solution",
   "metadata": {},
   "outputs": [
    {
     "data": {
      "text/html": [
       "<div>\n",
       "<style scoped>\n",
       "    .dataframe tbody tr th:only-of-type {\n",
       "        vertical-align: middle;\n",
       "    }\n",
       "\n",
       "    .dataframe tbody tr th {\n",
       "        vertical-align: top;\n",
       "    }\n",
       "\n",
       "    .dataframe thead th {\n",
       "        text-align: right;\n",
       "    }\n",
       "</style>\n",
       "<table border=\"1\" class=\"dataframe\">\n",
       "  <thead>\n",
       "    <tr style=\"text-align: right;\">\n",
       "      <th></th>\n",
       "      <th>created_at</th>\n",
       "      <th>timestamp</th>\n",
       "      <th>mmsi</th>\n",
       "      <th>msg_type</th>\n",
       "      <th>latitude</th>\n",
       "      <th>longitude</th>\n",
       "      <th>speed</th>\n",
       "      <th>course</th>\n",
       "      <th>heading</th>\n",
       "      <th>rot</th>\n",
       "      <th>...</th>\n",
       "      <th>ship_and_cargo_type</th>\n",
       "      <th>length</th>\n",
       "      <th>width</th>\n",
       "      <th>eta</th>\n",
       "      <th>destination</th>\n",
       "      <th>status</th>\n",
       "      <th>maneuver</th>\n",
       "      <th>accuracy</th>\n",
       "      <th>collection_type</th>\n",
       "      <th>mmsi_label</th>\n",
       "    </tr>\n",
       "  </thead>\n",
       "  <tbody>\n",
       "    <tr>\n",
       "      <th>10542</th>\n",
       "      <td>2020-07-01 12:16:25.371996 UTC</td>\n",
       "      <td>2020-07-01 12:00:17 UTC</td>\n",
       "      <td>538007271</td>\n",
       "      <td>1</td>\n",
       "      <td>-20.469147</td>\n",
       "      <td>58.065653</td>\n",
       "      <td>12.1</td>\n",
       "      <td>54.5</td>\n",
       "      <td>55.0</td>\n",
       "      <td>0.0</td>\n",
       "      <td>...</td>\n",
       "      <td>NaN</td>\n",
       "      <td>NaN</td>\n",
       "      <td>NaN</td>\n",
       "      <td>NaN</td>\n",
       "      <td>NaN</td>\n",
       "      <td>0.0</td>\n",
       "      <td>0.0</td>\n",
       "      <td>0.0</td>\n",
       "      <td>satellite</td>\n",
       "      <td>mmsi-538007271</td>\n",
       "    </tr>\n",
       "    <tr>\n",
       "      <th>10540</th>\n",
       "      <td>2020-07-01 12:16:25.371996 UTC</td>\n",
       "      <td>2020-07-01 12:00:28 UTC</td>\n",
       "      <td>538007271</td>\n",
       "      <td>1</td>\n",
       "      <td>-20.468800</td>\n",
       "      <td>58.066133</td>\n",
       "      <td>12.1</td>\n",
       "      <td>54.0</td>\n",
       "      <td>55.0</td>\n",
       "      <td>0.0</td>\n",
       "      <td>...</td>\n",
       "      <td>NaN</td>\n",
       "      <td>NaN</td>\n",
       "      <td>NaN</td>\n",
       "      <td>NaN</td>\n",
       "      <td>NaN</td>\n",
       "      <td>0.0</td>\n",
       "      <td>0.0</td>\n",
       "      <td>0.0</td>\n",
       "      <td>satellite</td>\n",
       "      <td>mmsi-538007271</td>\n",
       "    </tr>\n",
       "    <tr>\n",
       "      <th>21417</th>\n",
       "      <td>2020-07-01 12:16:09.704405 UTC</td>\n",
       "      <td>2020-07-01 12:01:28 UTC</td>\n",
       "      <td>538007271</td>\n",
       "      <td>1</td>\n",
       "      <td>-20.466800</td>\n",
       "      <td>58.069067</td>\n",
       "      <td>12.3</td>\n",
       "      <td>54.2</td>\n",
       "      <td>57.0</td>\n",
       "      <td>0.0</td>\n",
       "      <td>...</td>\n",
       "      <td>NaN</td>\n",
       "      <td>NaN</td>\n",
       "      <td>NaN</td>\n",
       "      <td>NaN</td>\n",
       "      <td>NaN</td>\n",
       "      <td>0.0</td>\n",
       "      <td>0.0</td>\n",
       "      <td>0.0</td>\n",
       "      <td>satellite</td>\n",
       "      <td>mmsi-538007271</td>\n",
       "    </tr>\n",
       "    <tr>\n",
       "      <th>26983</th>\n",
       "      <td>2020-07-01 12:34:10.282561 UTC</td>\n",
       "      <td>2020-07-01 12:08:37 UTC</td>\n",
       "      <td>538007271</td>\n",
       "      <td>1</td>\n",
       "      <td>-20.452747</td>\n",
       "      <td>58.090373</td>\n",
       "      <td>12.4</td>\n",
       "      <td>54.6</td>\n",
       "      <td>56.0</td>\n",
       "      <td>0.0</td>\n",
       "      <td>...</td>\n",
       "      <td>NaN</td>\n",
       "      <td>NaN</td>\n",
       "      <td>NaN</td>\n",
       "      <td>NaN</td>\n",
       "      <td>NaN</td>\n",
       "      <td>0.0</td>\n",
       "      <td>0.0</td>\n",
       "      <td>0.0</td>\n",
       "      <td>satellite</td>\n",
       "      <td>mmsi-538007271</td>\n",
       "    </tr>\n",
       "    <tr>\n",
       "      <th>15975</th>\n",
       "      <td>2020-07-01 12:34:10.282561 UTC</td>\n",
       "      <td>2020-07-01 12:10:06 UTC</td>\n",
       "      <td>538007271</td>\n",
       "      <td>1</td>\n",
       "      <td>-20.449760</td>\n",
       "      <td>58.094827</td>\n",
       "      <td>12.2</td>\n",
       "      <td>54.5</td>\n",
       "      <td>56.0</td>\n",
       "      <td>0.0</td>\n",
       "      <td>...</td>\n",
       "      <td>NaN</td>\n",
       "      <td>NaN</td>\n",
       "      <td>NaN</td>\n",
       "      <td>NaN</td>\n",
       "      <td>NaN</td>\n",
       "      <td>0.0</td>\n",
       "      <td>0.0</td>\n",
       "      <td>0.0</td>\n",
       "      <td>satellite</td>\n",
       "      <td>mmsi-538007271</td>\n",
       "    </tr>\n",
       "    <tr>\n",
       "      <th>...</th>\n",
       "      <td>...</td>\n",
       "      <td>...</td>\n",
       "      <td>...</td>\n",
       "      <td>...</td>\n",
       "      <td>...</td>\n",
       "      <td>...</td>\n",
       "      <td>...</td>\n",
       "      <td>...</td>\n",
       "      <td>...</td>\n",
       "      <td>...</td>\n",
       "      <td>...</td>\n",
       "      <td>...</td>\n",
       "      <td>...</td>\n",
       "      <td>...</td>\n",
       "      <td>...</td>\n",
       "      <td>...</td>\n",
       "      <td>...</td>\n",
       "      <td>...</td>\n",
       "      <td>...</td>\n",
       "      <td>...</td>\n",
       "      <td>...</td>\n",
       "    </tr>\n",
       "    <tr>\n",
       "      <th>181</th>\n",
       "      <td>2020-07-31 23:40:01.600698 UTC</td>\n",
       "      <td>2020-07-31 23:40:01 UTC</td>\n",
       "      <td>503000112</td>\n",
       "      <td>5</td>\n",
       "      <td>NaN</td>\n",
       "      <td>NaN</td>\n",
       "      <td>NaN</td>\n",
       "      <td>NaN</td>\n",
       "      <td>NaN</td>\n",
       "      <td>NaN</td>\n",
       "      <td>...</td>\n",
       "      <td>52.0</td>\n",
       "      <td>35.0</td>\n",
       "      <td>14.0</td>\n",
       "      <td>2019-12-26 05:10:00 UTC</td>\n",
       "      <td>PORT HEDLAND</td>\n",
       "      <td>NaN</td>\n",
       "      <td>NaN</td>\n",
       "      <td>NaN</td>\n",
       "      <td>terrestrial</td>\n",
       "      <td>mmsi-503000112</td>\n",
       "    </tr>\n",
       "    <tr>\n",
       "      <th>1210</th>\n",
       "      <td>2020-07-31 23:47:39.949897 UTC</td>\n",
       "      <td>2020-07-31 23:44:42.14 UTC</td>\n",
       "      <td>372711000</td>\n",
       "      <td>1</td>\n",
       "      <td>-20.440350</td>\n",
       "      <td>57.743100</td>\n",
       "      <td>0.0</td>\n",
       "      <td>130.0</td>\n",
       "      <td>43.0</td>\n",
       "      <td>-128.0</td>\n",
       "      <td>...</td>\n",
       "      <td>NaN</td>\n",
       "      <td>NaN</td>\n",
       "      <td>NaN</td>\n",
       "      <td>NaN</td>\n",
       "      <td>NaN</td>\n",
       "      <td>15.0</td>\n",
       "      <td>0.0</td>\n",
       "      <td>0.0</td>\n",
       "      <td>dynamic</td>\n",
       "      <td>mmsi-372711000</td>\n",
       "    </tr>\n",
       "    <tr>\n",
       "      <th>159</th>\n",
       "      <td>2020-07-31 23:45:58.70477 UTC</td>\n",
       "      <td>2020-07-31 23:45:58 UTC</td>\n",
       "      <td>503000112</td>\n",
       "      <td>5</td>\n",
       "      <td>NaN</td>\n",
       "      <td>NaN</td>\n",
       "      <td>NaN</td>\n",
       "      <td>NaN</td>\n",
       "      <td>NaN</td>\n",
       "      <td>NaN</td>\n",
       "      <td>...</td>\n",
       "      <td>52.0</td>\n",
       "      <td>35.0</td>\n",
       "      <td>14.0</td>\n",
       "      <td>2019-12-26 05:10:00 UTC</td>\n",
       "      <td>PORT HEDLAND</td>\n",
       "      <td>NaN</td>\n",
       "      <td>NaN</td>\n",
       "      <td>NaN</td>\n",
       "      <td>terrestrial</td>\n",
       "      <td>mmsi-503000112</td>\n",
       "    </tr>\n",
       "    <tr>\n",
       "      <th>114</th>\n",
       "      <td>2020-07-31 23:52:01.281811 UTC</td>\n",
       "      <td>2020-07-31 23:52:01 UTC</td>\n",
       "      <td>503000112</td>\n",
       "      <td>5</td>\n",
       "      <td>NaN</td>\n",
       "      <td>NaN</td>\n",
       "      <td>NaN</td>\n",
       "      <td>NaN</td>\n",
       "      <td>NaN</td>\n",
       "      <td>NaN</td>\n",
       "      <td>...</td>\n",
       "      <td>52.0</td>\n",
       "      <td>35.0</td>\n",
       "      <td>14.0</td>\n",
       "      <td>2019-12-26 05:10:00 UTC</td>\n",
       "      <td>PORT HEDLAND</td>\n",
       "      <td>NaN</td>\n",
       "      <td>NaN</td>\n",
       "      <td>NaN</td>\n",
       "      <td>terrestrial</td>\n",
       "      <td>mmsi-503000112</td>\n",
       "    </tr>\n",
       "    <tr>\n",
       "      <th>1005</th>\n",
       "      <td>2020-08-01 00:40:25.608017 UTC</td>\n",
       "      <td>2020-07-31 23:53:32 UTC</td>\n",
       "      <td>372711000</td>\n",
       "      <td>3</td>\n",
       "      <td>-20.440320</td>\n",
       "      <td>57.743040</td>\n",
       "      <td>0.0</td>\n",
       "      <td>130.0</td>\n",
       "      <td>43.0</td>\n",
       "      <td>0.0</td>\n",
       "      <td>...</td>\n",
       "      <td>NaN</td>\n",
       "      <td>NaN</td>\n",
       "      <td>NaN</td>\n",
       "      <td>NaN</td>\n",
       "      <td>NaN</td>\n",
       "      <td>6.0</td>\n",
       "      <td>0.0</td>\n",
       "      <td>0.0</td>\n",
       "      <td>satellite</td>\n",
       "      <td>mmsi-372711000</td>\n",
       "    </tr>\n",
       "  </tbody>\n",
       "</table>\n",
       "<p>27978 rows × 25 columns</p>\n",
       "</div>"
      ],
      "text/plain": [
       "                           created_at                   timestamp       mmsi  \\\n",
       "10542  2020-07-01 12:16:25.371996 UTC     2020-07-01 12:00:17 UTC  538007271   \n",
       "10540  2020-07-01 12:16:25.371996 UTC     2020-07-01 12:00:28 UTC  538007271   \n",
       "21417  2020-07-01 12:16:09.704405 UTC     2020-07-01 12:01:28 UTC  538007271   \n",
       "26983  2020-07-01 12:34:10.282561 UTC     2020-07-01 12:08:37 UTC  538007271   \n",
       "15975  2020-07-01 12:34:10.282561 UTC     2020-07-01 12:10:06 UTC  538007271   \n",
       "...                               ...                         ...        ...   \n",
       "181    2020-07-31 23:40:01.600698 UTC     2020-07-31 23:40:01 UTC  503000112   \n",
       "1210   2020-07-31 23:47:39.949897 UTC  2020-07-31 23:44:42.14 UTC  372711000   \n",
       "159     2020-07-31 23:45:58.70477 UTC     2020-07-31 23:45:58 UTC  503000112   \n",
       "114    2020-07-31 23:52:01.281811 UTC     2020-07-31 23:52:01 UTC  503000112   \n",
       "1005   2020-08-01 00:40:25.608017 UTC     2020-07-31 23:53:32 UTC  372711000   \n",
       "\n",
       "       msg_type   latitude  longitude  speed  course  heading    rot  ...  \\\n",
       "10542         1 -20.469147  58.065653   12.1    54.5     55.0    0.0  ...   \n",
       "10540         1 -20.468800  58.066133   12.1    54.0     55.0    0.0  ...   \n",
       "21417         1 -20.466800  58.069067   12.3    54.2     57.0    0.0  ...   \n",
       "26983         1 -20.452747  58.090373   12.4    54.6     56.0    0.0  ...   \n",
       "15975         1 -20.449760  58.094827   12.2    54.5     56.0    0.0  ...   \n",
       "...         ...        ...        ...    ...     ...      ...    ...  ...   \n",
       "181           5        NaN        NaN    NaN     NaN      NaN    NaN  ...   \n",
       "1210          1 -20.440350  57.743100    0.0   130.0     43.0 -128.0  ...   \n",
       "159           5        NaN        NaN    NaN     NaN      NaN    NaN  ...   \n",
       "114           5        NaN        NaN    NaN     NaN      NaN    NaN  ...   \n",
       "1005          3 -20.440320  57.743040    0.0   130.0     43.0    0.0  ...   \n",
       "\n",
       "       ship_and_cargo_type length width                      eta  \\\n",
       "10542                  NaN    NaN   NaN                      NaN   \n",
       "10540                  NaN    NaN   NaN                      NaN   \n",
       "21417                  NaN    NaN   NaN                      NaN   \n",
       "26983                  NaN    NaN   NaN                      NaN   \n",
       "15975                  NaN    NaN   NaN                      NaN   \n",
       "...                    ...    ...   ...                      ...   \n",
       "181                   52.0   35.0  14.0  2019-12-26 05:10:00 UTC   \n",
       "1210                   NaN    NaN   NaN                      NaN   \n",
       "159                   52.0   35.0  14.0  2019-12-26 05:10:00 UTC   \n",
       "114                   52.0   35.0  14.0  2019-12-26 05:10:00 UTC   \n",
       "1005                   NaN    NaN   NaN                      NaN   \n",
       "\n",
       "        destination  status  maneuver  accuracy collection_type  \\\n",
       "10542           NaN     0.0       0.0       0.0       satellite   \n",
       "10540           NaN     0.0       0.0       0.0       satellite   \n",
       "21417           NaN     0.0       0.0       0.0       satellite   \n",
       "26983           NaN     0.0       0.0       0.0       satellite   \n",
       "15975           NaN     0.0       0.0       0.0       satellite   \n",
       "...             ...     ...       ...       ...             ...   \n",
       "181    PORT HEDLAND     NaN       NaN       NaN     terrestrial   \n",
       "1210            NaN    15.0       0.0       0.0         dynamic   \n",
       "159    PORT HEDLAND     NaN       NaN       NaN     terrestrial   \n",
       "114    PORT HEDLAND     NaN       NaN       NaN     terrestrial   \n",
       "1005            NaN     6.0       0.0       0.0       satellite   \n",
       "\n",
       "           mmsi_label  \n",
       "10542  mmsi-538007271  \n",
       "10540  mmsi-538007271  \n",
       "21417  mmsi-538007271  \n",
       "26983  mmsi-538007271  \n",
       "15975  mmsi-538007271  \n",
       "...               ...  \n",
       "181    mmsi-503000112  \n",
       "1210   mmsi-372711000  \n",
       "159    mmsi-503000112  \n",
       "114    mmsi-503000112  \n",
       "1005   mmsi-372711000  \n",
       "\n",
       "[27978 rows x 25 columns]"
      ]
     },
     "execution_count": 253,
     "metadata": {},
     "output_type": "execute_result"
    }
   ],
   "source": [
    "time_series_df"
   ]
  },
  {
   "cell_type": "code",
   "execution_count": 254,
   "id": "sized-scanner",
   "metadata": {},
   "outputs": [
    {
     "name": "stdout",
     "output_type": "stream",
     "text": [
      "<class 'pandas.core.frame.DataFrame'>\n",
      "Int64Index: 27978 entries, 10542 to 1005\n",
      "Data columns (total 25 columns):\n",
      " #   Column               Non-Null Count  Dtype  \n",
      "---  ------               --------------  -----  \n",
      " 0   created_at           27978 non-null  object \n",
      " 1   timestamp            27978 non-null  object \n",
      " 2   mmsi                 27978 non-null  int64  \n",
      " 3   msg_type             27978 non-null  int64  \n",
      " 4   latitude             27736 non-null  float64\n",
      " 5   longitude            27736 non-null  float64\n",
      " 6   speed                27307 non-null  float64\n",
      " 7   course               27307 non-null  float64\n",
      " 8   heading              27162 non-null  float64\n",
      " 9   rot                  26999 non-null  float64\n",
      " 10  imo                  639 non-null    float64\n",
      " 11  name                 660 non-null    object \n",
      " 12  call_sign            650 non-null    object \n",
      " 13  flag                 27978 non-null  object \n",
      " 14  draught              639 non-null    float64\n",
      " 15  ship_and_cargo_type  650 non-null    float64\n",
      " 16  length               650 non-null    float64\n",
      " 17  width                650 non-null    float64\n",
      " 18  eta                  637 non-null    object \n",
      " 19  destination          639 non-null    object \n",
      " 20  status               27144 non-null  float64\n",
      " 21  maneuver             26999 non-null  float64\n",
      " 22  accuracy             27307 non-null  float64\n",
      " 23  collection_type      27978 non-null  object \n",
      " 24  mmsi_label           27978 non-null  object \n",
      "dtypes: float64(14), int64(2), object(9)\n",
      "memory usage: 5.5+ MB\n"
     ]
    }
   ],
   "source": [
    "time_series_df.info()"
   ]
  },
  {
   "cell_type": "code",
   "execution_count": 255,
   "id": "requested-hydrogen",
   "metadata": {},
   "outputs": [],
   "source": [
    "time_series_df['timestamp'] = pd.to_datetime(time_series_df['timestamp'], infer_datetime_format=True)"
   ]
  },
  {
   "cell_type": "code",
   "execution_count": 256,
   "id": "digital-aside",
   "metadata": {},
   "outputs": [
    {
     "name": "stdout",
     "output_type": "stream",
     "text": [
      "<class 'pandas.core.frame.DataFrame'>\n",
      "Int64Index: 27978 entries, 10542 to 1005\n",
      "Data columns (total 25 columns):\n",
      " #   Column               Non-Null Count  Dtype              \n",
      "---  ------               --------------  -----              \n",
      " 0   created_at           27978 non-null  object             \n",
      " 1   timestamp            27978 non-null  datetime64[ns, UTC]\n",
      " 2   mmsi                 27978 non-null  int64              \n",
      " 3   msg_type             27978 non-null  int64              \n",
      " 4   latitude             27736 non-null  float64            \n",
      " 5   longitude            27736 non-null  float64            \n",
      " 6   speed                27307 non-null  float64            \n",
      " 7   course               27307 non-null  float64            \n",
      " 8   heading              27162 non-null  float64            \n",
      " 9   rot                  26999 non-null  float64            \n",
      " 10  imo                  639 non-null    float64            \n",
      " 11  name                 660 non-null    object             \n",
      " 12  call_sign            650 non-null    object             \n",
      " 13  flag                 27978 non-null  object             \n",
      " 14  draught              639 non-null    float64            \n",
      " 15  ship_and_cargo_type  650 non-null    float64            \n",
      " 16  length               650 non-null    float64            \n",
      " 17  width                650 non-null    float64            \n",
      " 18  eta                  637 non-null    object             \n",
      " 19  destination          639 non-null    object             \n",
      " 20  status               27144 non-null  float64            \n",
      " 21  maneuver             26999 non-null  float64            \n",
      " 22  accuracy             27307 non-null  float64            \n",
      " 23  collection_type      27978 non-null  object             \n",
      " 24  mmsi_label           27978 non-null  object             \n",
      "dtypes: datetime64[ns, UTC](1), float64(14), int64(2), object(8)\n",
      "memory usage: 5.5+ MB\n"
     ]
    }
   ],
   "source": [
    "time_series_df.info()"
   ]
  },
  {
   "cell_type": "code",
   "execution_count": 257,
   "id": "extra-settlement",
   "metadata": {},
   "outputs": [
    {
     "data": {
      "text/html": [
       "<div>\n",
       "<style scoped>\n",
       "    .dataframe tbody tr th:only-of-type {\n",
       "        vertical-align: middle;\n",
       "    }\n",
       "\n",
       "    .dataframe tbody tr th {\n",
       "        vertical-align: top;\n",
       "    }\n",
       "\n",
       "    .dataframe thead th {\n",
       "        text-align: right;\n",
       "    }\n",
       "</style>\n",
       "<table border=\"1\" class=\"dataframe\">\n",
       "  <thead>\n",
       "    <tr style=\"text-align: right;\">\n",
       "      <th></th>\n",
       "      <th>created_at</th>\n",
       "      <th>timestamp</th>\n",
       "      <th>mmsi</th>\n",
       "      <th>msg_type</th>\n",
       "      <th>latitude</th>\n",
       "      <th>longitude</th>\n",
       "      <th>speed</th>\n",
       "      <th>course</th>\n",
       "      <th>heading</th>\n",
       "      <th>rot</th>\n",
       "      <th>...</th>\n",
       "      <th>ship_and_cargo_type</th>\n",
       "      <th>length</th>\n",
       "      <th>width</th>\n",
       "      <th>eta</th>\n",
       "      <th>destination</th>\n",
       "      <th>status</th>\n",
       "      <th>maneuver</th>\n",
       "      <th>accuracy</th>\n",
       "      <th>collection_type</th>\n",
       "      <th>mmsi_label</th>\n",
       "    </tr>\n",
       "  </thead>\n",
       "  <tbody>\n",
       "    <tr>\n",
       "      <th>10542</th>\n",
       "      <td>2020-07-01 12:16:25.371996 UTC</td>\n",
       "      <td>2020-07-01 12:00:17+00:00</td>\n",
       "      <td>538007271</td>\n",
       "      <td>1</td>\n",
       "      <td>-20.469147</td>\n",
       "      <td>58.065653</td>\n",
       "      <td>12.1</td>\n",
       "      <td>54.5</td>\n",
       "      <td>55.0</td>\n",
       "      <td>0.0</td>\n",
       "      <td>...</td>\n",
       "      <td>NaN</td>\n",
       "      <td>NaN</td>\n",
       "      <td>NaN</td>\n",
       "      <td>NaN</td>\n",
       "      <td>NaN</td>\n",
       "      <td>0.0</td>\n",
       "      <td>0.0</td>\n",
       "      <td>0.0</td>\n",
       "      <td>satellite</td>\n",
       "      <td>mmsi-538007271</td>\n",
       "    </tr>\n",
       "    <tr>\n",
       "      <th>10540</th>\n",
       "      <td>2020-07-01 12:16:25.371996 UTC</td>\n",
       "      <td>2020-07-01 12:00:28+00:00</td>\n",
       "      <td>538007271</td>\n",
       "      <td>1</td>\n",
       "      <td>-20.468800</td>\n",
       "      <td>58.066133</td>\n",
       "      <td>12.1</td>\n",
       "      <td>54.0</td>\n",
       "      <td>55.0</td>\n",
       "      <td>0.0</td>\n",
       "      <td>...</td>\n",
       "      <td>NaN</td>\n",
       "      <td>NaN</td>\n",
       "      <td>NaN</td>\n",
       "      <td>NaN</td>\n",
       "      <td>NaN</td>\n",
       "      <td>0.0</td>\n",
       "      <td>0.0</td>\n",
       "      <td>0.0</td>\n",
       "      <td>satellite</td>\n",
       "      <td>mmsi-538007271</td>\n",
       "    </tr>\n",
       "    <tr>\n",
       "      <th>21417</th>\n",
       "      <td>2020-07-01 12:16:09.704405 UTC</td>\n",
       "      <td>2020-07-01 12:01:28+00:00</td>\n",
       "      <td>538007271</td>\n",
       "      <td>1</td>\n",
       "      <td>-20.466800</td>\n",
       "      <td>58.069067</td>\n",
       "      <td>12.3</td>\n",
       "      <td>54.2</td>\n",
       "      <td>57.0</td>\n",
       "      <td>0.0</td>\n",
       "      <td>...</td>\n",
       "      <td>NaN</td>\n",
       "      <td>NaN</td>\n",
       "      <td>NaN</td>\n",
       "      <td>NaN</td>\n",
       "      <td>NaN</td>\n",
       "      <td>0.0</td>\n",
       "      <td>0.0</td>\n",
       "      <td>0.0</td>\n",
       "      <td>satellite</td>\n",
       "      <td>mmsi-538007271</td>\n",
       "    </tr>\n",
       "    <tr>\n",
       "      <th>26983</th>\n",
       "      <td>2020-07-01 12:34:10.282561 UTC</td>\n",
       "      <td>2020-07-01 12:08:37+00:00</td>\n",
       "      <td>538007271</td>\n",
       "      <td>1</td>\n",
       "      <td>-20.452747</td>\n",
       "      <td>58.090373</td>\n",
       "      <td>12.4</td>\n",
       "      <td>54.6</td>\n",
       "      <td>56.0</td>\n",
       "      <td>0.0</td>\n",
       "      <td>...</td>\n",
       "      <td>NaN</td>\n",
       "      <td>NaN</td>\n",
       "      <td>NaN</td>\n",
       "      <td>NaN</td>\n",
       "      <td>NaN</td>\n",
       "      <td>0.0</td>\n",
       "      <td>0.0</td>\n",
       "      <td>0.0</td>\n",
       "      <td>satellite</td>\n",
       "      <td>mmsi-538007271</td>\n",
       "    </tr>\n",
       "    <tr>\n",
       "      <th>15975</th>\n",
       "      <td>2020-07-01 12:34:10.282561 UTC</td>\n",
       "      <td>2020-07-01 12:10:06+00:00</td>\n",
       "      <td>538007271</td>\n",
       "      <td>1</td>\n",
       "      <td>-20.449760</td>\n",
       "      <td>58.094827</td>\n",
       "      <td>12.2</td>\n",
       "      <td>54.5</td>\n",
       "      <td>56.0</td>\n",
       "      <td>0.0</td>\n",
       "      <td>...</td>\n",
       "      <td>NaN</td>\n",
       "      <td>NaN</td>\n",
       "      <td>NaN</td>\n",
       "      <td>NaN</td>\n",
       "      <td>NaN</td>\n",
       "      <td>0.0</td>\n",
       "      <td>0.0</td>\n",
       "      <td>0.0</td>\n",
       "      <td>satellite</td>\n",
       "      <td>mmsi-538007271</td>\n",
       "    </tr>\n",
       "  </tbody>\n",
       "</table>\n",
       "<p>5 rows × 25 columns</p>\n",
       "</div>"
      ],
      "text/plain": [
       "                           created_at                 timestamp       mmsi  \\\n",
       "10542  2020-07-01 12:16:25.371996 UTC 2020-07-01 12:00:17+00:00  538007271   \n",
       "10540  2020-07-01 12:16:25.371996 UTC 2020-07-01 12:00:28+00:00  538007271   \n",
       "21417  2020-07-01 12:16:09.704405 UTC 2020-07-01 12:01:28+00:00  538007271   \n",
       "26983  2020-07-01 12:34:10.282561 UTC 2020-07-01 12:08:37+00:00  538007271   \n",
       "15975  2020-07-01 12:34:10.282561 UTC 2020-07-01 12:10:06+00:00  538007271   \n",
       "\n",
       "       msg_type   latitude  longitude  speed  course  heading  rot  ...  \\\n",
       "10542         1 -20.469147  58.065653   12.1    54.5     55.0  0.0  ...   \n",
       "10540         1 -20.468800  58.066133   12.1    54.0     55.0  0.0  ...   \n",
       "21417         1 -20.466800  58.069067   12.3    54.2     57.0  0.0  ...   \n",
       "26983         1 -20.452747  58.090373   12.4    54.6     56.0  0.0  ...   \n",
       "15975         1 -20.449760  58.094827   12.2    54.5     56.0  0.0  ...   \n",
       "\n",
       "       ship_and_cargo_type length width  eta  destination  status  maneuver  \\\n",
       "10542                  NaN    NaN   NaN  NaN          NaN     0.0       0.0   \n",
       "10540                  NaN    NaN   NaN  NaN          NaN     0.0       0.0   \n",
       "21417                  NaN    NaN   NaN  NaN          NaN     0.0       0.0   \n",
       "26983                  NaN    NaN   NaN  NaN          NaN     0.0       0.0   \n",
       "15975                  NaN    NaN   NaN  NaN          NaN     0.0       0.0   \n",
       "\n",
       "       accuracy collection_type      mmsi_label  \n",
       "10542       0.0       satellite  mmsi-538007271  \n",
       "10540       0.0       satellite  mmsi-538007271  \n",
       "21417       0.0       satellite  mmsi-538007271  \n",
       "26983       0.0       satellite  mmsi-538007271  \n",
       "15975       0.0       satellite  mmsi-538007271  \n",
       "\n",
       "[5 rows x 25 columns]"
      ]
     },
     "execution_count": 257,
     "metadata": {},
     "output_type": "execute_result"
    }
   ],
   "source": [
    "time_series_df.head()"
   ]
  },
  {
   "cell_type": "code",
   "execution_count": null,
   "id": "informal-windsor",
   "metadata": {},
   "outputs": [],
   "source": []
  },
  {
   "cell_type": "code",
   "execution_count": 258,
   "id": "collect-species",
   "metadata": {},
   "outputs": [
    {
     "data": {
      "text/plain": [
       "[<matplotlib.lines.Line2D at 0x7f6ea8265c88>]"
      ]
     },
     "execution_count": 258,
     "metadata": {},
     "output_type": "execute_result"
    },
    {
     "data": {
      "image/png": "[encoded data removed]",
      "text/plain": [
       "<Figure size 432x288 with 1 Axes>"
      ]
     },
     "metadata": {
      "needs_background": "light"
     },
     "output_type": "display_data"
    }
   ],
   "source": [
    "plt.plot( time_series_df['timestamp'], time_series_df['speed'])\n"
   ]
  },
  {
   "cell_type": "code",
   "execution_count": 259,
   "id": "horizontal-celebrity",
   "metadata": {},
   "outputs": [],
   "source": [
    "time_series_df.drop([\"call_sign\", \"flag\" ,\"draught\" , \"ship_and_cargo_type\",  \"length\", \"width\",\"eta\" , \"destination\",  \"status\", \"maneuver\",  \"accuracy\" ,\"collection_type\" ,'mmsi_label'], axis=1, inplace=True)\n"
   ]
  },
  {
   "cell_type": "code",
   "execution_count": 260,
   "id": "herbal-bread",
   "metadata": {},
   "outputs": [
    {
     "name": "stdout",
     "output_type": "stream",
     "text": [
      "<class 'pandas.core.frame.DataFrame'>\n",
      "Int64Index: 27978 entries, 10542 to 1005\n",
      "Data columns (total 12 columns):\n",
      " #   Column      Non-Null Count  Dtype              \n",
      "---  ------      --------------  -----              \n",
      " 0   created_at  27978 non-null  object             \n",
      " 1   timestamp   27978 non-null  datetime64[ns, UTC]\n",
      " 2   mmsi        27978 non-null  int64              \n",
      " 3   msg_type    27978 non-null  int64              \n",
      " 4   latitude    27736 non-null  float64            \n",
      " 5   longitude   27736 non-null  float64            \n",
      " 6   speed       27307 non-null  float64            \n",
      " 7   course      27307 non-null  float64            \n",
      " 8   heading     27162 non-null  float64            \n",
      " 9   rot         26999 non-null  float64            \n",
      " 10  imo         639 non-null    float64            \n",
      " 11  name        660 non-null    object             \n",
      "dtypes: datetime64[ns, UTC](1), float64(7), int64(2), object(2)\n",
      "memory usage: 2.8+ MB\n"
     ]
    }
   ],
   "source": [
    "time_series_df.info()"
   ]
  },
  {
   "cell_type": "code",
   "execution_count": 261,
   "id": "massive-video",
   "metadata": {},
   "outputs": [
    {
     "data": {
      "text/html": [
       "<div>\n",
       "<style scoped>\n",
       "    .dataframe tbody tr th:only-of-type {\n",
       "        vertical-align: middle;\n",
       "    }\n",
       "\n",
       "    .dataframe tbody tr th {\n",
       "        vertical-align: top;\n",
       "    }\n",
       "\n",
       "    .dataframe thead th {\n",
       "        text-align: right;\n",
       "    }\n",
       "</style>\n",
       "<table border=\"1\" class=\"dataframe\">\n",
       "  <thead>\n",
       "    <tr style=\"text-align: right;\">\n",
       "      <th></th>\n",
       "      <th>created_at</th>\n",
       "      <th>timestamp</th>\n",
       "      <th>mmsi</th>\n",
       "      <th>msg_type</th>\n",
       "      <th>latitude</th>\n",
       "      <th>longitude</th>\n",
       "      <th>speed</th>\n",
       "      <th>course</th>\n",
       "      <th>heading</th>\n",
       "      <th>rot</th>\n",
       "      <th>imo</th>\n",
       "      <th>name</th>\n",
       "    </tr>\n",
       "  </thead>\n",
       "  <tbody>\n",
       "    <tr>\n",
       "      <th>10542</th>\n",
       "      <td>2020-07-01 12:16:25.371996 UTC</td>\n",
       "      <td>2020-07-01 12:00:17+00:00</td>\n",
       "      <td>538007271</td>\n",
       "      <td>1</td>\n",
       "      <td>-20.469147</td>\n",
       "      <td>58.065653</td>\n",
       "      <td>12.1</td>\n",
       "      <td>54.5</td>\n",
       "      <td>55.0</td>\n",
       "      <td>0.0</td>\n",
       "      <td>NaN</td>\n",
       "      <td>NaN</td>\n",
       "    </tr>\n",
       "    <tr>\n",
       "      <th>10540</th>\n",
       "      <td>2020-07-01 12:16:25.371996 UTC</td>\n",
       "      <td>2020-07-01 12:00:28+00:00</td>\n",
       "      <td>538007271</td>\n",
       "      <td>1</td>\n",
       "      <td>-20.468800</td>\n",
       "      <td>58.066133</td>\n",
       "      <td>12.1</td>\n",
       "      <td>54.0</td>\n",
       "      <td>55.0</td>\n",
       "      <td>0.0</td>\n",
       "      <td>NaN</td>\n",
       "      <td>NaN</td>\n",
       "    </tr>\n",
       "    <tr>\n",
       "      <th>21417</th>\n",
       "      <td>2020-07-01 12:16:09.704405 UTC</td>\n",
       "      <td>2020-07-01 12:01:28+00:00</td>\n",
       "      <td>538007271</td>\n",
       "      <td>1</td>\n",
       "      <td>-20.466800</td>\n",
       "      <td>58.069067</td>\n",
       "      <td>12.3</td>\n",
       "      <td>54.2</td>\n",
       "      <td>57.0</td>\n",
       "      <td>0.0</td>\n",
       "      <td>NaN</td>\n",
       "      <td>NaN</td>\n",
       "    </tr>\n",
       "    <tr>\n",
       "      <th>26983</th>\n",
       "      <td>2020-07-01 12:34:10.282561 UTC</td>\n",
       "      <td>2020-07-01 12:08:37+00:00</td>\n",
       "      <td>538007271</td>\n",
       "      <td>1</td>\n",
       "      <td>-20.452747</td>\n",
       "      <td>58.090373</td>\n",
       "      <td>12.4</td>\n",
       "      <td>54.6</td>\n",
       "      <td>56.0</td>\n",
       "      <td>0.0</td>\n",
       "      <td>NaN</td>\n",
       "      <td>NaN</td>\n",
       "    </tr>\n",
       "    <tr>\n",
       "      <th>15975</th>\n",
       "      <td>2020-07-01 12:34:10.282561 UTC</td>\n",
       "      <td>2020-07-01 12:10:06+00:00</td>\n",
       "      <td>538007271</td>\n",
       "      <td>1</td>\n",
       "      <td>-20.449760</td>\n",
       "      <td>58.094827</td>\n",
       "      <td>12.2</td>\n",
       "      <td>54.5</td>\n",
       "      <td>56.0</td>\n",
       "      <td>0.0</td>\n",
       "      <td>NaN</td>\n",
       "      <td>NaN</td>\n",
       "    </tr>\n",
       "  </tbody>\n",
       "</table>\n",
       "</div>"
      ],
      "text/plain": [
       "                           created_at                 timestamp       mmsi  \\\n",
       "10542  2020-07-01 12:16:25.371996 UTC 2020-07-01 12:00:17+00:00  538007271   \n",
       "10540  2020-07-01 12:16:25.371996 UTC 2020-07-01 12:00:28+00:00  538007271   \n",
       "21417  2020-07-01 12:16:09.704405 UTC 2020-07-01 12:01:28+00:00  538007271   \n",
       "26983  2020-07-01 12:34:10.282561 UTC 2020-07-01 12:08:37+00:00  538007271   \n",
       "15975  2020-07-01 12:34:10.282561 UTC 2020-07-01 12:10:06+00:00  538007271   \n",
       "\n",
       "       msg_type   latitude  longitude  speed  course  heading  rot  imo name  \n",
       "10542         1 -20.469147  58.065653   12.1    54.5     55.0  0.0  NaN  NaN  \n",
       "10540         1 -20.468800  58.066133   12.1    54.0     55.0  0.0  NaN  NaN  \n",
       "21417         1 -20.466800  58.069067   12.3    54.2     57.0  0.0  NaN  NaN  \n",
       "26983         1 -20.452747  58.090373   12.4    54.6     56.0  0.0  NaN  NaN  \n",
       "15975         1 -20.449760  58.094827   12.2    54.5     56.0  0.0  NaN  NaN  "
      ]
     },
     "execution_count": 261,
     "metadata": {},
     "output_type": "execute_result"
    }
   ],
   "source": [
    "time_series_df.head()"
   ]
  },
  {
   "cell_type": "code",
   "execution_count": 262,
   "id": "decent-lying",
   "metadata": {},
   "outputs": [],
   "source": [
    "time_series_df.drop(['created_at','imo', 'name'], axis=1, inplace=True)"
   ]
  },
  {
   "cell_type": "code",
   "execution_count": 263,
   "id": "hispanic-collection",
   "metadata": {},
   "outputs": [
    {
     "data": {
      "text/html": [
       "<div>\n",
       "<style scoped>\n",
       "    .dataframe tbody tr th:only-of-type {\n",
       "        vertical-align: middle;\n",
       "    }\n",
       "\n",
       "    .dataframe tbody tr th {\n",
       "        vertical-align: top;\n",
       "    }\n",
       "\n",
       "    .dataframe thead th {\n",
       "        text-align: right;\n",
       "    }\n",
       "</style>\n",
       "<table border=\"1\" class=\"dataframe\">\n",
       "  <thead>\n",
       "    <tr style=\"text-align: right;\">\n",
       "      <th></th>\n",
       "      <th>timestamp</th>\n",
       "      <th>mmsi</th>\n",
       "      <th>msg_type</th>\n",
       "      <th>latitude</th>\n",
       "      <th>longitude</th>\n",
       "      <th>speed</th>\n",
       "      <th>course</th>\n",
       "      <th>heading</th>\n",
       "      <th>rot</th>\n",
       "    </tr>\n",
       "  </thead>\n",
       "  <tbody>\n",
       "    <tr>\n",
       "      <th>10542</th>\n",
       "      <td>2020-07-01 12:00:17+00:00</td>\n",
       "      <td>538007271</td>\n",
       "      <td>1</td>\n",
       "      <td>-20.469147</td>\n",
       "      <td>58.065653</td>\n",
       "      <td>12.1</td>\n",
       "      <td>54.5</td>\n",
       "      <td>55.0</td>\n",
       "      <td>0.0</td>\n",
       "    </tr>\n",
       "    <tr>\n",
       "      <th>10540</th>\n",
       "      <td>2020-07-01 12:00:28+00:00</td>\n",
       "      <td>538007271</td>\n",
       "      <td>1</td>\n",
       "      <td>-20.468800</td>\n",
       "      <td>58.066133</td>\n",
       "      <td>12.1</td>\n",
       "      <td>54.0</td>\n",
       "      <td>55.0</td>\n",
       "      <td>0.0</td>\n",
       "    </tr>\n",
       "    <tr>\n",
       "      <th>21417</th>\n",
       "      <td>2020-07-01 12:01:28+00:00</td>\n",
       "      <td>538007271</td>\n",
       "      <td>1</td>\n",
       "      <td>-20.466800</td>\n",
       "      <td>58.069067</td>\n",
       "      <td>12.3</td>\n",
       "      <td>54.2</td>\n",
       "      <td>57.0</td>\n",
       "      <td>0.0</td>\n",
       "    </tr>\n",
       "    <tr>\n",
       "      <th>26983</th>\n",
       "      <td>2020-07-01 12:08:37+00:00</td>\n",
       "      <td>538007271</td>\n",
       "      <td>1</td>\n",
       "      <td>-20.452747</td>\n",
       "      <td>58.090373</td>\n",
       "      <td>12.4</td>\n",
       "      <td>54.6</td>\n",
       "      <td>56.0</td>\n",
       "      <td>0.0</td>\n",
       "    </tr>\n",
       "    <tr>\n",
       "      <th>15975</th>\n",
       "      <td>2020-07-01 12:10:06+00:00</td>\n",
       "      <td>538007271</td>\n",
       "      <td>1</td>\n",
       "      <td>-20.449760</td>\n",
       "      <td>58.094827</td>\n",
       "      <td>12.2</td>\n",
       "      <td>54.5</td>\n",
       "      <td>56.0</td>\n",
       "      <td>0.0</td>\n",
       "    </tr>\n",
       "  </tbody>\n",
       "</table>\n",
       "</div>"
      ],
      "text/plain": [
       "                      timestamp       mmsi  msg_type   latitude  longitude  \\\n",
       "10542 2020-07-01 12:00:17+00:00  538007271         1 -20.469147  58.065653   \n",
       "10540 2020-07-01 12:00:28+00:00  538007271         1 -20.468800  58.066133   \n",
       "21417 2020-07-01 12:01:28+00:00  538007271         1 -20.466800  58.069067   \n",
       "26983 2020-07-01 12:08:37+00:00  538007271         1 -20.452747  58.090373   \n",
       "15975 2020-07-01 12:10:06+00:00  538007271         1 -20.449760  58.094827   \n",
       "\n",
       "       speed  course  heading  rot  \n",
       "10542   12.1    54.5     55.0  0.0  \n",
       "10540   12.1    54.0     55.0  0.0  \n",
       "21417   12.3    54.2     57.0  0.0  \n",
       "26983   12.4    54.6     56.0  0.0  \n",
       "15975   12.2    54.5     56.0  0.0  "
      ]
     },
     "execution_count": 263,
     "metadata": {},
     "output_type": "execute_result"
    }
   ],
   "source": [
    "time_series_df.head()"
   ]
  },
  {
   "cell_type": "code",
   "execution_count": 264,
   "id": "falling-heart",
   "metadata": {},
   "outputs": [],
   "source": [
    "time_series_df = time_series_df[time_series_df['speed'].notna()]\n"
   ]
  },
  {
   "cell_type": "code",
   "execution_count": 265,
   "id": "rural-majority",
   "metadata": {},
   "outputs": [
    {
     "data": {
      "text/html": [
       "<div>\n",
       "<style scoped>\n",
       "    .dataframe tbody tr th:only-of-type {\n",
       "        vertical-align: middle;\n",
       "    }\n",
       "\n",
       "    .dataframe tbody tr th {\n",
       "        vertical-align: top;\n",
       "    }\n",
       "\n",
       "    .dataframe thead th {\n",
       "        text-align: right;\n",
       "    }\n",
       "</style>\n",
       "<table border=\"1\" class=\"dataframe\">\n",
       "  <thead>\n",
       "    <tr style=\"text-align: right;\">\n",
       "      <th></th>\n",
       "      <th>timestamp</th>\n",
       "      <th>mmsi</th>\n",
       "      <th>msg_type</th>\n",
       "      <th>latitude</th>\n",
       "      <th>longitude</th>\n",
       "      <th>speed</th>\n",
       "      <th>course</th>\n",
       "      <th>heading</th>\n",
       "      <th>rot</th>\n",
       "    </tr>\n",
       "  </thead>\n",
       "  <tbody>\n",
       "    <tr>\n",
       "      <th>10542</th>\n",
       "      <td>2020-07-01 12:00:17+00:00</td>\n",
       "      <td>538007271</td>\n",
       "      <td>1</td>\n",
       "      <td>-20.469147</td>\n",
       "      <td>58.065653</td>\n",
       "      <td>12.1</td>\n",
       "      <td>54.5</td>\n",
       "      <td>55.0</td>\n",
       "      <td>0.0</td>\n",
       "    </tr>\n",
       "    <tr>\n",
       "      <th>10540</th>\n",
       "      <td>2020-07-01 12:00:28+00:00</td>\n",
       "      <td>538007271</td>\n",
       "      <td>1</td>\n",
       "      <td>-20.468800</td>\n",
       "      <td>58.066133</td>\n",
       "      <td>12.1</td>\n",
       "      <td>54.0</td>\n",
       "      <td>55.0</td>\n",
       "      <td>0.0</td>\n",
       "    </tr>\n",
       "    <tr>\n",
       "      <th>21417</th>\n",
       "      <td>2020-07-01 12:01:28+00:00</td>\n",
       "      <td>538007271</td>\n",
       "      <td>1</td>\n",
       "      <td>-20.466800</td>\n",
       "      <td>58.069067</td>\n",
       "      <td>12.3</td>\n",
       "      <td>54.2</td>\n",
       "      <td>57.0</td>\n",
       "      <td>0.0</td>\n",
       "    </tr>\n",
       "    <tr>\n",
       "      <th>26983</th>\n",
       "      <td>2020-07-01 12:08:37+00:00</td>\n",
       "      <td>538007271</td>\n",
       "      <td>1</td>\n",
       "      <td>-20.452747</td>\n",
       "      <td>58.090373</td>\n",
       "      <td>12.4</td>\n",
       "      <td>54.6</td>\n",
       "      <td>56.0</td>\n",
       "      <td>0.0</td>\n",
       "    </tr>\n",
       "    <tr>\n",
       "      <th>15975</th>\n",
       "      <td>2020-07-01 12:10:06+00:00</td>\n",
       "      <td>538007271</td>\n",
       "      <td>1</td>\n",
       "      <td>-20.449760</td>\n",
       "      <td>58.094827</td>\n",
       "      <td>12.2</td>\n",
       "      <td>54.5</td>\n",
       "      <td>56.0</td>\n",
       "      <td>0.0</td>\n",
       "    </tr>\n",
       "  </tbody>\n",
       "</table>\n",
       "</div>"
      ],
      "text/plain": [
       "                      timestamp       mmsi  msg_type   latitude  longitude  \\\n",
       "10542 2020-07-01 12:00:17+00:00  538007271         1 -20.469147  58.065653   \n",
       "10540 2020-07-01 12:00:28+00:00  538007271         1 -20.468800  58.066133   \n",
       "21417 2020-07-01 12:01:28+00:00  538007271         1 -20.466800  58.069067   \n",
       "26983 2020-07-01 12:08:37+00:00  538007271         1 -20.452747  58.090373   \n",
       "15975 2020-07-01 12:10:06+00:00  538007271         1 -20.449760  58.094827   \n",
       "\n",
       "       speed  course  heading  rot  \n",
       "10542   12.1    54.5     55.0  0.0  \n",
       "10540   12.1    54.0     55.0  0.0  \n",
       "21417   12.3    54.2     57.0  0.0  \n",
       "26983   12.4    54.6     56.0  0.0  \n",
       "15975   12.2    54.5     56.0  0.0  "
      ]
     },
     "execution_count": 265,
     "metadata": {},
     "output_type": "execute_result"
    }
   ],
   "source": [
    "time_series_df.head()"
   ]
  },
  {
   "cell_type": "code",
   "execution_count": 266,
   "id": "remarkable-focus",
   "metadata": {},
   "outputs": [
    {
     "name": "stdout",
     "output_type": "stream",
     "text": [
      "<class 'pandas.core.frame.DataFrame'>\n",
      "Int64Index: 27307 entries, 10542 to 1005\n",
      "Data columns (total 9 columns):\n",
      " #   Column     Non-Null Count  Dtype              \n",
      "---  ------     --------------  -----              \n",
      " 0   timestamp  27307 non-null  datetime64[ns, UTC]\n",
      " 1   mmsi       27307 non-null  int64              \n",
      " 2   msg_type   27307 non-null  int64              \n",
      " 3   latitude   27307 non-null  float64            \n",
      " 4   longitude  27307 non-null  float64            \n",
      " 5   speed      27307 non-null  float64            \n",
      " 6   course     27307 non-null  float64            \n",
      " 7   heading    27162 non-null  float64            \n",
      " 8   rot        26999 non-null  float64            \n",
      "dtypes: datetime64[ns, UTC](1), float64(6), int64(2)\n",
      "memory usage: 2.1 MB\n"
     ]
    }
   ],
   "source": [
    "time_series_df.info()"
   ]
  },
  {
   "cell_type": "code",
   "execution_count": 267,
   "id": "brown-narrow",
   "metadata": {},
   "outputs": [
    {
     "data": {
      "text/plain": [
       "[<matplotlib.lines.Line2D at 0x7f6ea8415cf8>]"
      ]
     },
     "execution_count": 267,
     "metadata": {},
     "output_type": "execute_result"
    },
    {
     "data": {
      "image/png": "[encoded data removed]",
      "text/plain": [
       "<Figure size 432x288 with 1 Axes>"
      ]
     },
     "metadata": {
      "needs_background": "light"
     },
     "output_type": "display_data"
    }
   ],
   "source": [
    "plt.plot( time_series_df['timestamp'], time_series_df['speed'])\n"
   ]
  },
  {
   "cell_type": "code",
   "execution_count": 268,
   "id": "desperate-triple",
   "metadata": {},
   "outputs": [
    {
     "data": {
      "image/png": "[encoded data removed]",
      "text/plain": [
       "<Figure size 432x288 with 1 Axes>"
      ]
     },
     "metadata": {
      "needs_background": "light"
     },
     "output_type": "display_data"
    }
   ],
   "source": [
    "plt.plot( time_series_df['timestamp'], time_series_df['speed'])\n",
    "plt.gcf().autofmt_xdate()\n",
    "plt.show()"
   ]
  },
  {
   "cell_type": "code",
   "execution_count": 269,
   "id": "electronic-henry",
   "metadata": {},
   "outputs": [],
   "source": [
    "time_series_df = time_series_df.reset_index(drop=True)"
   ]
  },
  {
   "cell_type": "code",
   "execution_count": 270,
   "id": "developed-cambridge",
   "metadata": {},
   "outputs": [
    {
     "data": {
      "text/html": [
       "<div>\n",
       "<style scoped>\n",
       "    .dataframe tbody tr th:only-of-type {\n",
       "        vertical-align: middle;\n",
       "    }\n",
       "\n",
       "    .dataframe tbody tr th {\n",
       "        vertical-align: top;\n",
       "    }\n",
       "\n",
       "    .dataframe thead th {\n",
       "        text-align: right;\n",
       "    }\n",
       "</style>\n",
       "<table border=\"1\" class=\"dataframe\">\n",
       "  <thead>\n",
       "    <tr style=\"text-align: right;\">\n",
       "      <th></th>\n",
       "      <th>timestamp</th>\n",
       "      <th>mmsi</th>\n",
       "      <th>msg_type</th>\n",
       "      <th>latitude</th>\n",
       "      <th>longitude</th>\n",
       "      <th>speed</th>\n",
       "      <th>course</th>\n",
       "      <th>heading</th>\n",
       "      <th>rot</th>\n",
       "    </tr>\n",
       "  </thead>\n",
       "  <tbody>\n",
       "    <tr>\n",
       "      <th>0</th>\n",
       "      <td>2020-07-01 12:00:17+00:00</td>\n",
       "      <td>538007271</td>\n",
       "      <td>1</td>\n",
       "      <td>-20.469147</td>\n",
       "      <td>58.065653</td>\n",
       "      <td>12.1</td>\n",
       "      <td>54.5</td>\n",
       "      <td>55.0</td>\n",
       "      <td>0.0</td>\n",
       "    </tr>\n",
       "    <tr>\n",
       "      <th>1</th>\n",
       "      <td>2020-07-01 12:00:28+00:00</td>\n",
       "      <td>538007271</td>\n",
       "      <td>1</td>\n",
       "      <td>-20.468800</td>\n",
       "      <td>58.066133</td>\n",
       "      <td>12.1</td>\n",
       "      <td>54.0</td>\n",
       "      <td>55.0</td>\n",
       "      <td>0.0</td>\n",
       "    </tr>\n",
       "    <tr>\n",
       "      <th>2</th>\n",
       "      <td>2020-07-01 12:01:28+00:00</td>\n",
       "      <td>538007271</td>\n",
       "      <td>1</td>\n",
       "      <td>-20.466800</td>\n",
       "      <td>58.069067</td>\n",
       "      <td>12.3</td>\n",
       "      <td>54.2</td>\n",
       "      <td>57.0</td>\n",
       "      <td>0.0</td>\n",
       "    </tr>\n",
       "    <tr>\n",
       "      <th>3</th>\n",
       "      <td>2020-07-01 12:08:37+00:00</td>\n",
       "      <td>538007271</td>\n",
       "      <td>1</td>\n",
       "      <td>-20.452747</td>\n",
       "      <td>58.090373</td>\n",
       "      <td>12.4</td>\n",
       "      <td>54.6</td>\n",
       "      <td>56.0</td>\n",
       "      <td>0.0</td>\n",
       "    </tr>\n",
       "    <tr>\n",
       "      <th>4</th>\n",
       "      <td>2020-07-01 12:10:06+00:00</td>\n",
       "      <td>538007271</td>\n",
       "      <td>1</td>\n",
       "      <td>-20.449760</td>\n",
       "      <td>58.094827</td>\n",
       "      <td>12.2</td>\n",
       "      <td>54.5</td>\n",
       "      <td>56.0</td>\n",
       "      <td>0.0</td>\n",
       "    </tr>\n",
       "  </tbody>\n",
       "</table>\n",
       "</div>"
      ],
      "text/plain": [
       "                  timestamp       mmsi  msg_type   latitude  longitude  speed  \\\n",
       "0 2020-07-01 12:00:17+00:00  538007271         1 -20.469147  58.065653   12.1   \n",
       "1 2020-07-01 12:00:28+00:00  538007271         1 -20.468800  58.066133   12.1   \n",
       "2 2020-07-01 12:01:28+00:00  538007271         1 -20.466800  58.069067   12.3   \n",
       "3 2020-07-01 12:08:37+00:00  538007271         1 -20.452747  58.090373   12.4   \n",
       "4 2020-07-01 12:10:06+00:00  538007271         1 -20.449760  58.094827   12.2   \n",
       "\n",
       "   course  heading  rot  \n",
       "0    54.5     55.0  0.0  \n",
       "1    54.0     55.0  0.0  \n",
       "2    54.2     57.0  0.0  \n",
       "3    54.6     56.0  0.0  \n",
       "4    54.5     56.0  0.0  "
      ]
     },
     "execution_count": 270,
     "metadata": {},
     "output_type": "execute_result"
    }
   ],
   "source": [
    "time_series_df.head()\n"
   ]
  },
  {
   "cell_type": "code",
   "execution_count": 271,
   "id": "shaped-appreciation",
   "metadata": {},
   "outputs": [
    {
     "data": {
      "text/plain": [
       "1"
      ]
     },
     "execution_count": 271,
     "metadata": {},
     "output_type": "execute_result"
    }
   ],
   "source": [
    "len(time_series_df[(time_series_df['heading']==0)])"
   ]
  },
  {
   "cell_type": "code",
   "execution_count": 272,
   "id": "stylish-sound",
   "metadata": {},
   "outputs": [
    {
     "data": {
      "image/png": "[encoded data removed]",
      "text/plain": [
       "<Figure size 432x288 with 1 Axes>"
      ]
     },
     "metadata": {
      "needs_background": "light"
     },
     "output_type": "display_data"
    }
   ],
   "source": [
    "plt.plot( time_series_df['timestamp'], time_series_df['heading'])\n",
    "plt.gcf().autofmt_xdate()\n",
    "plt.show()"
   ]
  },
  {
   "cell_type": "code",
   "execution_count": 273,
   "id": "metric-tsunami",
   "metadata": {},
   "outputs": [
    {
     "data": {
      "image/png": "[encoded data removed]",
      "text/plain": [
       "<Figure size 432x288 with 1 Axes>"
      ]
     },
     "metadata": {
      "needs_background": "light"
     },
     "output_type": "display_data"
    }
   ],
   "source": [
    "plt.plot( time_series_df['timestamp'], time_series_df['course'])\n",
    "plt.gcf().autofmt_xdate()\n",
    "plt.show()"
   ]
  },
  {
   "cell_type": "code",
   "execution_count": 274,
   "id": "sporting-cloud",
   "metadata": {},
   "outputs": [
    {
     "name": "stdout",
     "output_type": "stream",
     "text": [
      "                      timestamp       mmsi  msg_type  latitude  longitude  \\\n",
      "18000 2020-07-23 11:39:40+00:00  229985000         1 -20.25768  58.243493   \n",
      "\n",
      "       speed  course  heading  rot  \n",
      "18000   10.7    49.1     51.0  0.0  \n"
     ]
    }
   ],
   "source": [
    "print(time_series_df.loc[[18000]])"
   ]
  },
  {
   "cell_type": "code",
   "execution_count": 275,
   "id": "greek-being",
   "metadata": {},
   "outputs": [
    {
     "data": {
      "text/html": [
       "<div>\n",
       "<style scoped>\n",
       "    .dataframe tbody tr th:only-of-type {\n",
       "        vertical-align: middle;\n",
       "    }\n",
       "\n",
       "    .dataframe tbody tr th {\n",
       "        vertical-align: top;\n",
       "    }\n",
       "\n",
       "    .dataframe thead th {\n",
       "        text-align: right;\n",
       "    }\n",
       "</style>\n",
       "<table border=\"1\" class=\"dataframe\">\n",
       "  <thead>\n",
       "    <tr style=\"text-align: right;\">\n",
       "      <th></th>\n",
       "      <th>timestamp</th>\n",
       "      <th>mmsi</th>\n",
       "      <th>msg_type</th>\n",
       "      <th>latitude</th>\n",
       "      <th>longitude</th>\n",
       "      <th>speed</th>\n",
       "      <th>course</th>\n",
       "      <th>heading</th>\n",
       "      <th>rot</th>\n",
       "    </tr>\n",
       "  </thead>\n",
       "  <tbody>\n",
       "    <tr>\n",
       "      <th>0</th>\n",
       "      <td>2020-07-01 12:00:17+00:00</td>\n",
       "      <td>538007271</td>\n",
       "      <td>1</td>\n",
       "      <td>-20.469147</td>\n",
       "      <td>58.065653</td>\n",
       "      <td>12.1</td>\n",
       "      <td>54.5</td>\n",
       "      <td>55.0</td>\n",
       "      <td>0.0</td>\n",
       "    </tr>\n",
       "    <tr>\n",
       "      <th>1</th>\n",
       "      <td>2020-07-01 12:00:28+00:00</td>\n",
       "      <td>538007271</td>\n",
       "      <td>1</td>\n",
       "      <td>-20.468800</td>\n",
       "      <td>58.066133</td>\n",
       "      <td>12.1</td>\n",
       "      <td>54.0</td>\n",
       "      <td>55.0</td>\n",
       "      <td>0.0</td>\n",
       "    </tr>\n",
       "    <tr>\n",
       "      <th>2</th>\n",
       "      <td>2020-07-01 12:01:28+00:00</td>\n",
       "      <td>538007271</td>\n",
       "      <td>1</td>\n",
       "      <td>-20.466800</td>\n",
       "      <td>58.069067</td>\n",
       "      <td>12.3</td>\n",
       "      <td>54.2</td>\n",
       "      <td>57.0</td>\n",
       "      <td>0.0</td>\n",
       "    </tr>\n",
       "    <tr>\n",
       "      <th>3</th>\n",
       "      <td>2020-07-01 12:08:37+00:00</td>\n",
       "      <td>538007271</td>\n",
       "      <td>1</td>\n",
       "      <td>-20.452747</td>\n",
       "      <td>58.090373</td>\n",
       "      <td>12.4</td>\n",
       "      <td>54.6</td>\n",
       "      <td>56.0</td>\n",
       "      <td>0.0</td>\n",
       "    </tr>\n",
       "    <tr>\n",
       "      <th>4</th>\n",
       "      <td>2020-07-01 12:10:06+00:00</td>\n",
       "      <td>538007271</td>\n",
       "      <td>1</td>\n",
       "      <td>-20.449760</td>\n",
       "      <td>58.094827</td>\n",
       "      <td>12.2</td>\n",
       "      <td>54.5</td>\n",
       "      <td>56.0</td>\n",
       "      <td>0.0</td>\n",
       "    </tr>\n",
       "  </tbody>\n",
       "</table>\n",
       "</div>"
      ],
      "text/plain": [
       "                  timestamp       mmsi  msg_type   latitude  longitude  speed  \\\n",
       "0 2020-07-01 12:00:17+00:00  538007271         1 -20.469147  58.065653   12.1   \n",
       "1 2020-07-01 12:00:28+00:00  538007271         1 -20.468800  58.066133   12.1   \n",
       "2 2020-07-01 12:01:28+00:00  538007271         1 -20.466800  58.069067   12.3   \n",
       "3 2020-07-01 12:08:37+00:00  538007271         1 -20.452747  58.090373   12.4   \n",
       "4 2020-07-01 12:10:06+00:00  538007271         1 -20.449760  58.094827   12.2   \n",
       "\n",
       "   course  heading  rot  \n",
       "0    54.5     55.0  0.0  \n",
       "1    54.0     55.0  0.0  \n",
       "2    54.2     57.0  0.0  \n",
       "3    54.6     56.0  0.0  \n",
       "4    54.5     56.0  0.0  "
      ]
     },
     "execution_count": 275,
     "metadata": {},
     "output_type": "execute_result"
    }
   ],
   "source": [
    "time_series_df.head()"
   ]
  },
  {
   "cell_type": "code",
   "execution_count": 276,
   "id": "organizational-wednesday",
   "metadata": {},
   "outputs": [
    {
     "name": "stdout",
     "output_type": "stream",
     "text": [
      "<class 'pandas.core.frame.DataFrame'>\n",
      "RangeIndex: 27307 entries, 0 to 27306\n",
      "Data columns (total 9 columns):\n",
      " #   Column     Non-Null Count  Dtype              \n",
      "---  ------     --------------  -----              \n",
      " 0   timestamp  27307 non-null  datetime64[ns, UTC]\n",
      " 1   mmsi       27307 non-null  int64              \n",
      " 2   msg_type   27307 non-null  int64              \n",
      " 3   latitude   27307 non-null  float64            \n",
      " 4   longitude  27307 non-null  float64            \n",
      " 5   speed      27307 non-null  float64            \n",
      " 6   course     27307 non-null  float64            \n",
      " 7   heading    27162 non-null  float64            \n",
      " 8   rot        26999 non-null  float64            \n",
      "dtypes: datetime64[ns, UTC](1), float64(6), int64(2)\n",
      "memory usage: 1.9 MB\n"
     ]
    }
   ],
   "source": [
    "time_series_df.info()"
   ]
  },
  {
   "cell_type": "code",
   "execution_count": 277,
   "id": "overhead-kentucky",
   "metadata": {},
   "outputs": [
    {
     "name": "stdout",
     "output_type": "stream",
     "text": [
      "<class 'pandas.core.frame.DataFrame'>\n",
      "RangeIndex: 27307 entries, 0 to 27306\n",
      "Data columns (total 9 columns):\n",
      " #   Column     Non-Null Count  Dtype              \n",
      "---  ------     --------------  -----              \n",
      " 0   timestamp  27307 non-null  datetime64[ns, UTC]\n",
      " 1   mmsi       27307 non-null  int64              \n",
      " 2   msg_type   27307 non-null  int64              \n",
      " 3   latitude   27307 non-null  float64            \n",
      " 4   longitude  27307 non-null  float64            \n",
      " 5   speed      27307 non-null  float64            \n",
      " 6   course     27307 non-null  float64            \n",
      " 7   heading    27162 non-null  float64            \n",
      " 8   rot        26999 non-null  float64            \n",
      "dtypes: datetime64[ns, UTC](1), float64(6), int64(2)\n",
      "memory usage: 1.9 MB\n"
     ]
    }
   ],
   "source": [
    "time_series_df.info()\n",
    "time_series_df.drop(time_series_df[time_series_df['speed'] == 0].index, inplace = True) \n"
   ]
  },
  {
   "cell_type": "code",
   "execution_count": 278,
   "id": "residential-paper",
   "metadata": {},
   "outputs": [
    {
     "data": {
      "text/plain": [
       "array([538007271, 373014000, 477209900, 351090000, 538008956, 477020100,\n",
       "       538004284, 636018308, 565024000, 249947000, 371626000, 477100500,\n",
       "       229731000, 538004594, 374628000, 538006385, 645464000, 477614500,\n",
       "       355800000, 477392800, 311019600, 311000589, 645465000, 538007026,\n",
       "       477191300, 352422000, 412398000, 538008466, 356268000, 538004903,\n",
       "       210246000, 374539000, 229757000, 636011491, 565334000, 566704000,\n",
       "       636019432, 538008128, 563109300, 636014331, 239947000, 538007523,\n",
       "       314481000, 412421093, 636017588, 241283000, 355581000, 538004985,\n",
       "       636018812, 563025700, 636019904, 563001700, 258994000, 477360200,\n",
       "       477701000, 636018935, 565661000, 373795000, 248430000, 218549000,\n",
       "       636020002, 412331089, 248804000, 538008161, 636019872, 477327900,\n",
       "       371377000, 636015696, 477826400, 372632000, 636016168, 353184000,\n",
       "       413196000, 538006997, 636018642, 477847200, 636018629, 477978100,\n",
       "       209171000, 405000079, 636013468, 538007737, 356410000, 354326000,\n",
       "       636015367, 372840000, 564510000, 538006303, 355275000, 538008509,\n",
       "       538007193, 574000840, 538004269, 210960000, 477581400, 477637500,\n",
       "       311055100, 563105800, 419594000, 477327200, 319155900, 215672000,\n",
       "       477939600, 663019832, 314311000, 538007019, 477004600, 477884400,\n",
       "       565097000, 477269900, 354942000, 209817000, 566490000, 353243000,\n",
       "       538003563, 477347600, 636092027, 563102200, 311000757, 538007931,\n",
       "       538006170, 566410000, 477537300, 538008135, 314469000, 353946000,\n",
       "       235118625, 538007661, 631824706, 370556000, 636017114, 538003522,\n",
       "       372117000, 311000924, 636018487, 538005063, 477017200, 311073400,\n",
       "       636018251, 636015500, 477742800, 311022472, 374428000, 636017738,\n",
       "       357396000, 636019849, 311128000, 257593000, 538008174, 241421000,\n",
       "       538008588, 229985000, 538005747, 357728000, 538005145, 352718000,\n",
       "       563950000, 249062000, 564670000, 477244200, 477817600, 477925100,\n",
       "       636016581, 215454000, 538008910, 564796000, 477743200, 372711000,\n",
       "       636019537, 477007600, 538006057, 371282000, 477848500, 431148000,\n",
       "       477591300, 636016322, 477312700, 373240000, 538004573, 370737000,\n",
       "       232027403, 477694800, 319366000, 477184700, 354341000, 248547000,\n",
       "       538008584, 636019139, 255805685, 239838000, 636018555, 241625000,\n",
       "       256461000, 566830000, 538004355, 232024937, 256871000, 538006430,\n",
       "       538006857, 636015031, 636014571, 538007343, 372734000, 636018568,\n",
       "       710025780, 477133900, 636017557, 538006527, 475047883, 477326600,\n",
       "       636015419, 210730000, 209277000, 572142220, 256763000, 563735000,\n",
       "       229285000, 477518400, 538008044, 241273000, 660003100, 477319700,\n",
       "       477142100, 355899000, 271042638, 477098700, 576071000, 538007688])"
      ]
     },
     "execution_count": 278,
     "metadata": {},
     "output_type": "execute_result"
    }
   ],
   "source": [
    "time_series_df.mmsi.unique() "
   ]
  },
  {
   "cell_type": "code",
   "execution_count": 279,
   "id": "destroyed-voluntary",
   "metadata": {},
   "outputs": [],
   "source": [
    "mv_value = 372711000\n",
    "param = 'course'"
   ]
  },
  {
   "cell_type": "code",
   "execution_count": 280,
   "id": "artificial-cabinet",
   "metadata": {
    "scrolled": true
   },
   "outputs": [
    {
     "data": {
      "text/plain": [
       "178"
      ]
     },
     "execution_count": 280,
     "metadata": {},
     "output_type": "execute_result"
    }
   ],
   "source": [
    "len(time_series_df[time_series_df[\"mmsi\"]==mv_value])"
   ]
  },
  {
   "cell_type": "code",
   "execution_count": 281,
   "id": "congressional-assignment",
   "metadata": {},
   "outputs": [
    {
     "data": {
      "text/plain": [
       "0"
      ]
     },
     "execution_count": 281,
     "metadata": {},
     "output_type": "execute_result"
    }
   ],
   "source": [
    "len(time_series_df[time_series_df[\"speed\"]==0])"
   ]
  },
  {
   "cell_type": "code",
   "execution_count": 282,
   "id": "hazardous-latex",
   "metadata": {},
   "outputs": [],
   "source": [
    "mv_data = time_series_df[time_series_df['mmsi']==mv_value]"
   ]
  },
  {
   "cell_type": "code",
   "execution_count": 283,
   "id": "smart-glory",
   "metadata": {},
   "outputs": [
    {
     "data": {
      "text/html": [
       "<div>\n",
       "<style scoped>\n",
       "    .dataframe tbody tr th:only-of-type {\n",
       "        vertical-align: middle;\n",
       "    }\n",
       "\n",
       "    .dataframe tbody tr th {\n",
       "        vertical-align: top;\n",
       "    }\n",
       "\n",
       "    .dataframe thead th {\n",
       "        text-align: right;\n",
       "    }\n",
       "</style>\n",
       "<table border=\"1\" class=\"dataframe\">\n",
       "  <thead>\n",
       "    <tr style=\"text-align: right;\">\n",
       "      <th></th>\n",
       "      <th>timestamp</th>\n",
       "      <th>mmsi</th>\n",
       "      <th>msg_type</th>\n",
       "      <th>latitude</th>\n",
       "      <th>longitude</th>\n",
       "      <th>speed</th>\n",
       "      <th>course</th>\n",
       "      <th>heading</th>\n",
       "      <th>rot</th>\n",
       "    </tr>\n",
       "  </thead>\n",
       "  <tbody>\n",
       "    <tr>\n",
       "      <th>19803</th>\n",
       "      <td>2020-07-25 12:09:25+00:00</td>\n",
       "      <td>372711000</td>\n",
       "      <td>1</td>\n",
       "      <td>-20.150400</td>\n",
       "      <td>58.327413</td>\n",
       "      <td>11.6</td>\n",
       "      <td>245.0</td>\n",
       "      <td>241.0</td>\n",
       "      <td>0.0</td>\n",
       "    </tr>\n",
       "    <tr>\n",
       "      <th>19809</th>\n",
       "      <td>2020-07-25 12:09:55+00:00</td>\n",
       "      <td>372711000</td>\n",
       "      <td>1</td>\n",
       "      <td>-20.151067</td>\n",
       "      <td>58.325813</td>\n",
       "      <td>11.7</td>\n",
       "      <td>245.0</td>\n",
       "      <td>241.0</td>\n",
       "      <td>0.0</td>\n",
       "    </tr>\n",
       "    <tr>\n",
       "      <th>19811</th>\n",
       "      <td>2020-07-25 12:10:02+00:00</td>\n",
       "      <td>372711000</td>\n",
       "      <td>1</td>\n",
       "      <td>-20.150853</td>\n",
       "      <td>58.326347</td>\n",
       "      <td>11.7</td>\n",
       "      <td>246.0</td>\n",
       "      <td>240.0</td>\n",
       "      <td>-5.0</td>\n",
       "    </tr>\n",
       "    <tr>\n",
       "      <th>19813</th>\n",
       "      <td>2020-07-25 12:10:22+00:00</td>\n",
       "      <td>372711000</td>\n",
       "      <td>1</td>\n",
       "      <td>-20.151253</td>\n",
       "      <td>58.325333</td>\n",
       "      <td>11.7</td>\n",
       "      <td>246.0</td>\n",
       "      <td>240.0</td>\n",
       "      <td>0.0</td>\n",
       "    </tr>\n",
       "    <tr>\n",
       "      <th>19815</th>\n",
       "      <td>2020-07-25 12:10:31+00:00</td>\n",
       "      <td>372711000</td>\n",
       "      <td>1</td>\n",
       "      <td>-20.151493</td>\n",
       "      <td>58.324827</td>\n",
       "      <td>11.7</td>\n",
       "      <td>246.0</td>\n",
       "      <td>240.0</td>\n",
       "      <td>0.0</td>\n",
       "    </tr>\n",
       "  </tbody>\n",
       "</table>\n",
       "</div>"
      ],
      "text/plain": [
       "                      timestamp       mmsi  msg_type   latitude  longitude  \\\n",
       "19803 2020-07-25 12:09:25+00:00  372711000         1 -20.150400  58.327413   \n",
       "19809 2020-07-25 12:09:55+00:00  372711000         1 -20.151067  58.325813   \n",
       "19811 2020-07-25 12:10:02+00:00  372711000         1 -20.150853  58.326347   \n",
       "19813 2020-07-25 12:10:22+00:00  372711000         1 -20.151253  58.325333   \n",
       "19815 2020-07-25 12:10:31+00:00  372711000         1 -20.151493  58.324827   \n",
       "\n",
       "       speed  course  heading  rot  \n",
       "19803   11.6   245.0    241.0  0.0  \n",
       "19809   11.7   245.0    241.0  0.0  \n",
       "19811   11.7   246.0    240.0 -5.0  \n",
       "19813   11.7   246.0    240.0  0.0  \n",
       "19815   11.7   246.0    240.0  0.0  "
      ]
     },
     "execution_count": 283,
     "metadata": {},
     "output_type": "execute_result"
    }
   ],
   "source": [
    "mv_data.head()"
   ]
  },
  {
   "cell_type": "code",
   "execution_count": 284,
   "id": "thermal-flight",
   "metadata": {},
   "outputs": [
    {
     "data": {
      "image/png": "[encoded data removed]",
      "text/plain": [
       "<Figure size 432x288 with 1 Axes>"
      ]
     },
     "metadata": {
      "needs_background": "light"
     },
     "output_type": "display_data"
    }
   ],
   "source": [
    "plt.plot( mv_data['timestamp'], mv_data['speed'])\n",
    "plt.gcf().autofmt_xdate()\n",
    "plt.show()"
   ]
  },
  {
   "cell_type": "code",
   "execution_count": 285,
   "id": "verbal-contemporary",
   "metadata": {},
   "outputs": [
    {
     "data": {
      "image/png": "[encoded data removed]",
      "text/plain": [
       "<Figure size 432x288 with 1 Axes>"
      ]
     },
     "metadata": {
      "needs_background": "light"
     },
     "output_type": "display_data"
    }
   ],
   "source": [
    "plt.plot( mv_data['timestamp'], mv_data['course'])\n",
    "plt.gcf().autofmt_xdate()\n",
    "plt.show()"
   ]
  },
  {
   "cell_type": "code",
   "execution_count": 286,
   "id": "liberal-major",
   "metadata": {},
   "outputs": [
    {
     "data": {
      "text/html": [
       "<div>\n",
       "<style scoped>\n",
       "    .dataframe tbody tr th:only-of-type {\n",
       "        vertical-align: middle;\n",
       "    }\n",
       "\n",
       "    .dataframe tbody tr th {\n",
       "        vertical-align: top;\n",
       "    }\n",
       "\n",
       "    .dataframe thead th {\n",
       "        text-align: right;\n",
       "    }\n",
       "</style>\n",
       "<table border=\"1\" class=\"dataframe\">\n",
       "  <thead>\n",
       "    <tr style=\"text-align: right;\">\n",
       "      <th></th>\n",
       "      <th>timestamp</th>\n",
       "      <th>speed</th>\n",
       "      <th>course</th>\n",
       "      <th>heading</th>\n",
       "      <th>rot</th>\n",
       "    </tr>\n",
       "  </thead>\n",
       "  <tbody>\n",
       "    <tr>\n",
       "      <th>19803</th>\n",
       "      <td>2020-07-25 12:09:25+00:00</td>\n",
       "      <td>11.6</td>\n",
       "      <td>245.0</td>\n",
       "      <td>241.0</td>\n",
       "      <td>0.0</td>\n",
       "    </tr>\n",
       "    <tr>\n",
       "      <th>19809</th>\n",
       "      <td>2020-07-25 12:09:55+00:00</td>\n",
       "      <td>11.7</td>\n",
       "      <td>245.0</td>\n",
       "      <td>241.0</td>\n",
       "      <td>0.0</td>\n",
       "    </tr>\n",
       "    <tr>\n",
       "      <th>19811</th>\n",
       "      <td>2020-07-25 12:10:02+00:00</td>\n",
       "      <td>11.7</td>\n",
       "      <td>246.0</td>\n",
       "      <td>240.0</td>\n",
       "      <td>-5.0</td>\n",
       "    </tr>\n",
       "    <tr>\n",
       "      <th>19813</th>\n",
       "      <td>2020-07-25 12:10:22+00:00</td>\n",
       "      <td>11.7</td>\n",
       "      <td>246.0</td>\n",
       "      <td>240.0</td>\n",
       "      <td>0.0</td>\n",
       "    </tr>\n",
       "    <tr>\n",
       "      <th>19815</th>\n",
       "      <td>2020-07-25 12:10:31+00:00</td>\n",
       "      <td>11.7</td>\n",
       "      <td>246.0</td>\n",
       "      <td>240.0</td>\n",
       "      <td>0.0</td>\n",
       "    </tr>\n",
       "  </tbody>\n",
       "</table>\n",
       "</div>"
      ],
      "text/plain": [
       "                      timestamp  speed  course  heading  rot\n",
       "19803 2020-07-25 12:09:25+00:00   11.6   245.0    241.0  0.0\n",
       "19809 2020-07-25 12:09:55+00:00   11.7   245.0    241.0  0.0\n",
       "19811 2020-07-25 12:10:02+00:00   11.7   246.0    240.0 -5.0\n",
       "19813 2020-07-25 12:10:22+00:00   11.7   246.0    240.0  0.0\n",
       "19815 2020-07-25 12:10:31+00:00   11.7   246.0    240.0  0.0"
      ]
     },
     "execution_count": 286,
     "metadata": {},
     "output_type": "execute_result"
    }
   ],
   "source": [
    "# mv_data.reset_index(inplace=True) \n",
    "mv_data = mv_data.drop(['mmsi','msg_type','latitude', 'longitude'], axis=1)\n",
    "mv_data.head()"
   ]
  },
  {
   "cell_type": "code",
   "execution_count": 287,
   "id": "stainless-motor",
   "metadata": {},
   "outputs": [
    {
     "name": "stdout",
     "output_type": "stream",
     "text": [
      "<class 'pandas.core.frame.DataFrame'>\n",
      "Int64Index: 178 entries, 19803 to 27073\n",
      "Data columns (total 5 columns):\n",
      " #   Column     Non-Null Count  Dtype              \n",
      "---  ------     --------------  -----              \n",
      " 0   timestamp  178 non-null    datetime64[ns, UTC]\n",
      " 1   speed      178 non-null    float64            \n",
      " 2   course     178 non-null    float64            \n",
      " 3   heading    178 non-null    float64            \n",
      " 4   rot        178 non-null    float64            \n",
      "dtypes: datetime64[ns, UTC](1), float64(4)\n",
      "memory usage: 8.3 KB\n"
     ]
    }
   ],
   "source": [
    "mv_data = mv_data[mv_data['speed'].notna()]\n",
    "mv_data.info()"
   ]
  },
  {
   "cell_type": "code",
   "execution_count": 288,
   "id": "sublime-shield",
   "metadata": {},
   "outputs": [
    {
     "data": {
      "text/html": [
       "<div>\n",
       "<style scoped>\n",
       "    .dataframe tbody tr th:only-of-type {\n",
       "        vertical-align: middle;\n",
       "    }\n",
       "\n",
       "    .dataframe tbody tr th {\n",
       "        vertical-align: top;\n",
       "    }\n",
       "\n",
       "    .dataframe thead th {\n",
       "        text-align: right;\n",
       "    }\n",
       "</style>\n",
       "<table border=\"1\" class=\"dataframe\">\n",
       "  <thead>\n",
       "    <tr style=\"text-align: right;\">\n",
       "      <th></th>\n",
       "      <th>timestamp</th>\n",
       "      <th>speed</th>\n",
       "      <th>course</th>\n",
       "      <th>heading</th>\n",
       "      <th>rot</th>\n",
       "    </tr>\n",
       "  </thead>\n",
       "  <tbody>\n",
       "    <tr>\n",
       "      <th>19803</th>\n",
       "      <td>2020-07-25 12:09:25+00:00</td>\n",
       "      <td>11.6</td>\n",
       "      <td>245.0</td>\n",
       "      <td>241.0</td>\n",
       "      <td>0.0</td>\n",
       "    </tr>\n",
       "    <tr>\n",
       "      <th>19809</th>\n",
       "      <td>2020-07-25 12:09:55+00:00</td>\n",
       "      <td>11.7</td>\n",
       "      <td>245.0</td>\n",
       "      <td>241.0</td>\n",
       "      <td>0.0</td>\n",
       "    </tr>\n",
       "    <tr>\n",
       "      <th>19811</th>\n",
       "      <td>2020-07-25 12:10:02+00:00</td>\n",
       "      <td>11.7</td>\n",
       "      <td>246.0</td>\n",
       "      <td>240.0</td>\n",
       "      <td>-5.0</td>\n",
       "    </tr>\n",
       "    <tr>\n",
       "      <th>19813</th>\n",
       "      <td>2020-07-25 12:10:22+00:00</td>\n",
       "      <td>11.7</td>\n",
       "      <td>246.0</td>\n",
       "      <td>240.0</td>\n",
       "      <td>0.0</td>\n",
       "    </tr>\n",
       "    <tr>\n",
       "      <th>19815</th>\n",
       "      <td>2020-07-25 12:10:31+00:00</td>\n",
       "      <td>11.7</td>\n",
       "      <td>246.0</td>\n",
       "      <td>240.0</td>\n",
       "      <td>0.0</td>\n",
       "    </tr>\n",
       "  </tbody>\n",
       "</table>\n",
       "</div>"
      ],
      "text/plain": [
       "                      timestamp  speed  course  heading  rot\n",
       "19803 2020-07-25 12:09:25+00:00   11.6   245.0    241.0  0.0\n",
       "19809 2020-07-25 12:09:55+00:00   11.7   245.0    241.0  0.0\n",
       "19811 2020-07-25 12:10:02+00:00   11.7   246.0    240.0 -5.0\n",
       "19813 2020-07-25 12:10:22+00:00   11.7   246.0    240.0  0.0\n",
       "19815 2020-07-25 12:10:31+00:00   11.7   246.0    240.0  0.0"
      ]
     },
     "execution_count": 288,
     "metadata": {},
     "output_type": "execute_result"
    }
   ],
   "source": [
    "mv_data.head()"
   ]
  },
  {
   "cell_type": "code",
   "execution_count": 289,
   "id": "internal-cookie",
   "metadata": {},
   "outputs": [
    {
     "data": {
      "image/png": "[encoded data removed]",
      "text/plain": [
       "<Figure size 1296x216 with 1 Axes>"
      ]
     },
     "metadata": {
      "needs_background": "light"
     },
     "output_type": "display_data"
    },
    {
     "data": {
      "image/png": "[encoded data removed]",
      "text/plain": [
       "<Figure size 1296x216 with 1 Axes>"
      ]
     },
     "metadata": {
      "needs_background": "light"
     },
     "output_type": "display_data"
    },
    {
     "data": {
      "image/png": "[encoded data removed]",
      "text/plain": [
       "<Figure size 1296x216 with 1 Axes>"
      ]
     },
     "metadata": {
      "needs_background": "light"
     },
     "output_type": "display_data"
    },
    {
     "data": {
      "image/png": "[encoded data removed]",
      "text/plain": [
       "<Figure size 1296x216 with 1 Axes>"
      ]
     },
     "metadata": {
      "needs_background": "light"
     },
     "output_type": "display_data"
    }
   ],
   "source": [
    "import warnings\n",
    "mv_data = mv_data.set_index(['timestamp'])\n",
    "mv_data.index = pd.to_datetime(mv_data.index, unit='s')\n",
    "\n",
    "names=mv_data.columns\n",
    "# Resample the entire dataset by daily average\n",
    "rollmean = mv_data.resample(rule='D').mean()\n",
    "rollstd = mv_data.resample(rule='D').std()\n",
    "# Plot time series for each sensor with its mean and standard deviation\n",
    "for name in names:\n",
    "    _ = plt.figure(figsize=(18,3))\n",
    "    _ = plt.plot(mv_data[name], color='blue', label='Original')\n",
    "    _ = plt.plot(rollmean[name], color='red', label='Rolling Mean')\n",
    "    _ = plt.plot(rollstd[name], color='black', label='Rolling Std' )\n",
    "    _ = plt.legend(loc='best')\n",
    "    _ = plt.title(name)\n",
    "    plt.show()\n"
   ]
  },
  {
   "cell_type": "code",
   "execution_count": 290,
   "id": "attended-migration",
   "metadata": {},
   "outputs": [
    {
     "data": {
      "text/plain": [
       "Pipeline(memory=None,\n",
       "         steps=[('standardscaler',\n",
       "                 StandardScaler(copy=True, with_mean=True, with_std=True)),\n",
       "                ('pca',\n",
       "                 PCA(copy=True, iterated_power='auto', n_components=None,\n",
       "                     random_state=None, svd_solver='auto', tol=0.0,\n",
       "                     whiten=False))],\n",
       "         verbose=False)"
      ]
     },
     "execution_count": 290,
     "metadata": {},
     "output_type": "execute_result"
    }
   ],
   "source": [
    "from sklearn.preprocessing import StandardScaler\n",
    "from sklearn.decomposition import PCA\n",
    "from sklearn.pipeline import make_pipeline\n",
    "df2 = mv_data\n",
    "names=df2.columns\n",
    "x = mv_data[names]\n",
    "scaler = StandardScaler()\n",
    "pca = PCA()\n",
    "pipeline = make_pipeline(scaler, pca)\n",
    "pipeline.fit(x)\n"
   ]
  },
  {
   "cell_type": "code",
   "execution_count": 291,
   "id": "rotary-andorra",
   "metadata": {},
   "outputs": [
    {
     "data": {
      "image/png": "[encoded data removed]",
      "text/plain": [
       "<Figure size 1080x360 with 1 Axes>"
      ]
     },
     "metadata": {
      "needs_background": "light"
     },
     "output_type": "display_data"
    }
   ],
   "source": [
    "features = range(pca.n_components_)\n",
    "_ = plt.figure(figsize=(15, 5))\n",
    "_ = plt.bar(features, pca.explained_variance_)\n",
    "_ = plt.xlabel('PCA feature')\n",
    "_ = plt.ylabel('Variance')\n",
    "_ = plt.xticks(features)\n",
    "_ = plt.title(\"Importance of the Principal Components based on inertia\")\n",
    "plt.show()\n"
   ]
  },
  {
   "cell_type": "code",
   "execution_count": 292,
   "id": "corresponding-crest",
   "metadata": {},
   "outputs": [],
   "source": [
    "pca = PCA(n_components=2)\n",
    "principalComponents = pca.fit_transform(x)\n",
    "principalDf = pd.DataFrame(data = principalComponents, columns = ['pc1', 'pc2'])"
   ]
  },
  {
   "cell_type": "code",
   "execution_count": 293,
   "id": "creative-illinois",
   "metadata": {},
   "outputs": [],
   "source": [
    "mv_data['pc1']=pd.Series(principalDf['pc1'].values, index=mv_data.index)\n",
    "mv_data['pc2']=pd.Series(principalDf['pc2'].values, index=mv_data.index)"
   ]
  },
  {
   "cell_type": "code",
   "execution_count": 294,
   "id": "adjacent-timing",
   "metadata": {},
   "outputs": [
    {
     "name": "stdout",
     "output_type": "stream",
     "text": [
      "8.284431248740882e-06\n"
     ]
    }
   ],
   "source": [
    "from statsmodels.tsa.stattools import adfuller\n",
    "# Run Augmented Dickey Fuller Test\n",
    "result = adfuller(principalDf['pc1'])\n",
    "# Print p-value\n",
    "print(result[1])"
   ]
  },
  {
   "cell_type": "code",
   "execution_count": 295,
   "id": "sized-number",
   "metadata": {},
   "outputs": [
    {
     "name": "stdout",
     "output_type": "stream",
     "text": [
      "Autocorrelation is:  0.053260378955584636\n"
     ]
    }
   ],
   "source": [
    "# Compute change in daily mean \n",
    "pca1 = principalDf['pc1'].pct_change()\n",
    "# Compute autocorrelation\n",
    "autocorrelation = pca1.dropna().autocorr()\n",
    "print('Autocorrelation is: ', autocorrelation)\n"
   ]
  },
  {
   "cell_type": "code",
   "execution_count": 296,
   "id": "finnish-thanksgiving",
   "metadata": {},
   "outputs": [
    {
     "data": {
      "image/png": "[encoded data removed]",
      "text/plain": [
       "<Figure size 432x288 with 1 Axes>"
      ]
     },
     "execution_count": 296,
     "metadata": {},
     "output_type": "execute_result"
    },
    {
     "data": {
      "image/png": "[encoded data removed]",
      "text/plain": [
       "<Figure size 432x288 with 1 Axes>"
      ]
     },
     "metadata": {
      "needs_background": "light"
     },
     "output_type": "display_data"
    }
   ],
   "source": [
    "from statsmodels.graphics.tsaplots import plot_acf\n",
    "plot_acf(pca1.dropna(), lags=20, alpha=0.05)"
   ]
  },
  {
   "cell_type": "code",
   "execution_count": 297,
   "id": "incorporate-arrangement",
   "metadata": {},
   "outputs": [
    {
     "name": "stdout",
     "output_type": "stream",
     "text": [
      "Autocorrelation is:  -0.000463148273659055\n"
     ]
    }
   ],
   "source": [
    "# Compute change in daily mean \n",
    "pca2 = principalDf['pc2'].pct_change()\n",
    "# Compute autocorrelation\n",
    "autocorrelation = pca2.autocorr()\n",
    "print('Autocorrelation is: ', autocorrelation)\n"
   ]
  },
  {
   "cell_type": "code",
   "execution_count": 298,
   "id": "sweet-discovery",
   "metadata": {},
   "outputs": [
    {
     "data": {
      "image/png": "[encoded data removed]",
      "text/plain": [
       "<Figure size 432x288 with 1 Axes>"
      ]
     },
     "execution_count": 298,
     "metadata": {},
     "output_type": "execute_result"
    },
    {
     "data": {
      "image/png": "[encoded data removed]",
      "text/plain": [
       "<Figure size 432x288 with 1 Axes>"
      ]
     },
     "metadata": {
      "needs_background": "light"
     },
     "output_type": "display_data"
    }
   ],
   "source": [
    "\n",
    "from statsmodels.graphics.tsaplots import plot_acf\n",
    "plot_acf(pca2.dropna(), lags=20, alpha=0.05)\n"
   ]
  },
  {
   "cell_type": "code",
   "execution_count": 299,
   "id": "facial-accuracy",
   "metadata": {},
   "outputs": [],
   "source": [
    "\n",
    "# outlier_lower = Q1 - (1.5*IQR)\n",
    "# outlier_upper = Q3 + (1.5*IQR)\n",
    "# Calculate outlier bounds for pc1\n",
    "q1_pc1, q3_pc1 = mv_data['pc1'].quantile([0.25, 0.75])\n",
    "iqr_pc1 = q3_pc1 - q1_pc1\n",
    "lower_pc1 = q1_pc1 - (1.5*iqr_pc1)\n",
    "upper_pc1 = q3_pc1 + (1.5*iqr_pc1)\n",
    "# Calculate outlier bounds for pc2\n",
    "q1_pc2, q3_pc2 = mv_data['pc2'].quantile([0.25, 0.75])\n",
    "iqr_pc2 = q3_pc2 - q1_pc2\n",
    "lower_pc2 = q1_pc2 - (1.5*iqr_pc2)\n",
    "upper_pc2 = q3_pc2 + (1.5*iqr_pc2)"
   ]
  },
  {
   "cell_type": "code",
   "execution_count": 300,
   "id": "transparent-correction",
   "metadata": {},
   "outputs": [
    {
     "data": {
      "text/plain": [
       "(-15.201428154812634, 3.8887593226749884)"
      ]
     },
     "execution_count": 300,
     "metadata": {},
     "output_type": "execute_result"
    }
   ],
   "source": [
    "lower_pc1, upper_pc1\n"
   ]
  },
  {
   "cell_type": "code",
   "execution_count": 301,
   "id": "tender-collective",
   "metadata": {},
   "outputs": [
    {
     "data": {
      "text/plain": [
       "(-19.864309097942957, 6.978047636610669)"
      ]
     },
     "execution_count": 301,
     "metadata": {},
     "output_type": "execute_result"
    }
   ],
   "source": [
    "lower_pc2, upper_pc2\n"
   ]
  },
  {
   "cell_type": "code",
   "execution_count": 302,
   "id": "adult-statement",
   "metadata": {},
   "outputs": [],
   "source": [
    "mv_data['anomaly_pc1'] = ((mv_data['pc1']>upper_pc1) | (mv_data['pc1']<lower_pc1)).astype('int')\n",
    "mv_data['anomaly_pc2'] = ((mv_data['pc2']>upper_pc2) | (mv_data['pc2']<lower_pc2)).astype('int')\n"
   ]
  },
  {
   "cell_type": "code",
   "execution_count": 303,
   "id": "aquatic-nevada",
   "metadata": {},
   "outputs": [
    {
     "data": {
      "text/plain": [
       "0    157\n",
       "1     21\n",
       "Name: anomaly_pc1, dtype: int64"
      ]
     },
     "execution_count": 303,
     "metadata": {},
     "output_type": "execute_result"
    }
   ],
   "source": [
    "mv_data['anomaly_pc1'].value_counts()\n"
   ]
  },
  {
   "cell_type": "code",
   "execution_count": 304,
   "id": "dominant-crossing",
   "metadata": {},
   "outputs": [
    {
     "data": {
      "text/plain": [
       "0    158\n",
       "1     20\n",
       "Name: anomaly_pc2, dtype: int64"
      ]
     },
     "execution_count": 304,
     "metadata": {},
     "output_type": "execute_result"
    }
   ],
   "source": [
    "mv_data['anomaly_pc2'].value_counts()\n"
   ]
  },
  {
   "cell_type": "code",
   "execution_count": 305,
   "id": "architectural-recall",
   "metadata": {},
   "outputs": [],
   "source": [
    "outliers_pc1 = mv_data.loc[(mv_data['pc1']>upper_pc1) | (mv_data['pc1']<lower_pc1), 'pc1']\n",
    "outliers_pc2 = mv_data.loc[(mv_data['pc2']>upper_pc2) | (mv_data['pc2']<lower_pc2), 'pc2']"
   ]
  },
  {
   "cell_type": "code",
   "execution_count": 306,
   "id": "flexible-excellence",
   "metadata": {},
   "outputs": [
    {
     "data": {
      "text/plain": [
       "0.11797752808988764"
      ]
     },
     "execution_count": 306,
     "metadata": {},
     "output_type": "execute_result"
    }
   ],
   "source": [
    "len(outliers_pc1)/len(mv_data)\n"
   ]
  },
  {
   "cell_type": "code",
   "execution_count": 307,
   "id": "accompanied-welsh",
   "metadata": {},
   "outputs": [
    {
     "data": {
      "text/plain": [
       "0.11235955056179775"
      ]
     },
     "execution_count": 307,
     "metadata": {},
     "output_type": "execute_result"
    }
   ],
   "source": [
    "len(outliers_pc2)/len(mv_data)"
   ]
  },
  {
   "cell_type": "code",
   "execution_count": 308,
   "id": "equal-processor",
   "metadata": {},
   "outputs": [
    {
     "data": {
      "text/html": [
       "<div>\n",
       "<style scoped>\n",
       "    .dataframe tbody tr th:only-of-type {\n",
       "        vertical-align: middle;\n",
       "    }\n",
       "\n",
       "    .dataframe tbody tr th {\n",
       "        vertical-align: top;\n",
       "    }\n",
       "\n",
       "    .dataframe thead th {\n",
       "        text-align: right;\n",
       "    }\n",
       "</style>\n",
       "<table border=\"1\" class=\"dataframe\">\n",
       "  <thead>\n",
       "    <tr style=\"text-align: right;\">\n",
       "      <th></th>\n",
       "      <th>speed</th>\n",
       "      <th>course</th>\n",
       "      <th>heading</th>\n",
       "      <th>rot</th>\n",
       "      <th>pc1</th>\n",
       "      <th>pc2</th>\n",
       "      <th>anomaly_pc1</th>\n",
       "      <th>anomaly_pc2</th>\n",
       "    </tr>\n",
       "    <tr>\n",
       "      <th>timestamp</th>\n",
       "      <th></th>\n",
       "      <th></th>\n",
       "      <th></th>\n",
       "      <th></th>\n",
       "      <th></th>\n",
       "      <th></th>\n",
       "      <th></th>\n",
       "      <th></th>\n",
       "    </tr>\n",
       "  </thead>\n",
       "  <tbody>\n",
       "    <tr>\n",
       "      <th>2020-07-25 12:09:25+00:00</th>\n",
       "      <td>11.6</td>\n",
       "      <td>245.0</td>\n",
       "      <td>241.0</td>\n",
       "      <td>0.0</td>\n",
       "      <td>-7.366019</td>\n",
       "      <td>-7.698192</td>\n",
       "      <td>0</td>\n",
       "      <td>0</td>\n",
       "    </tr>\n",
       "    <tr>\n",
       "      <th>2020-07-25 12:09:55+00:00</th>\n",
       "      <td>11.7</td>\n",
       "      <td>245.0</td>\n",
       "      <td>241.0</td>\n",
       "      <td>0.0</td>\n",
       "      <td>-7.369291</td>\n",
       "      <td>-7.698880</td>\n",
       "      <td>0</td>\n",
       "      <td>0</td>\n",
       "    </tr>\n",
       "    <tr>\n",
       "      <th>2020-07-25 12:10:02+00:00</th>\n",
       "      <td>11.7</td>\n",
       "      <td>246.0</td>\n",
       "      <td>240.0</td>\n",
       "      <td>-5.0</td>\n",
       "      <td>-7.565949</td>\n",
       "      <td>-2.597924</td>\n",
       "      <td>0</td>\n",
       "      <td>0</td>\n",
       "    </tr>\n",
       "    <tr>\n",
       "      <th>2020-07-25 12:10:22+00:00</th>\n",
       "      <td>11.7</td>\n",
       "      <td>246.0</td>\n",
       "      <td>240.0</td>\n",
       "      <td>0.0</td>\n",
       "      <td>-8.669903</td>\n",
       "      <td>-7.450870</td>\n",
       "      <td>0</td>\n",
       "      <td>0</td>\n",
       "    </tr>\n",
       "    <tr>\n",
       "      <th>2020-07-25 12:10:31+00:00</th>\n",
       "      <td>11.7</td>\n",
       "      <td>246.0</td>\n",
       "      <td>240.0</td>\n",
       "      <td>0.0</td>\n",
       "      <td>-8.669903</td>\n",
       "      <td>-7.450870</td>\n",
       "      <td>0</td>\n",
       "      <td>0</td>\n",
       "    </tr>\n",
       "  </tbody>\n",
       "</table>\n",
       "</div>"
      ],
      "text/plain": [
       "                           speed  course  heading  rot       pc1       pc2  \\\n",
       "timestamp                                                                    \n",
       "2020-07-25 12:09:25+00:00   11.6   245.0    241.0  0.0 -7.366019 -7.698192   \n",
       "2020-07-25 12:09:55+00:00   11.7   245.0    241.0  0.0 -7.369291 -7.698880   \n",
       "2020-07-25 12:10:02+00:00   11.7   246.0    240.0 -5.0 -7.565949 -2.597924   \n",
       "2020-07-25 12:10:22+00:00   11.7   246.0    240.0  0.0 -8.669903 -7.450870   \n",
       "2020-07-25 12:10:31+00:00   11.7   246.0    240.0  0.0 -8.669903 -7.450870   \n",
       "\n",
       "                           anomaly_pc1  anomaly_pc2  \n",
       "timestamp                                            \n",
       "2020-07-25 12:09:25+00:00            0            0  \n",
       "2020-07-25 12:09:55+00:00            0            0  \n",
       "2020-07-25 12:10:02+00:00            0            0  \n",
       "2020-07-25 12:10:22+00:00            0            0  \n",
       "2020-07-25 12:10:31+00:00            0            0  "
      ]
     },
     "execution_count": 308,
     "metadata": {},
     "output_type": "execute_result"
    }
   ],
   "source": [
    "mv_data.head()"
   ]
  },
  {
   "cell_type": "code",
   "execution_count": 309,
   "id": "purple-equilibrium",
   "metadata": {},
   "outputs": [
    {
     "data": {
      "image/png": "[encoded data removed]",
      "text/plain": [
       "<Figure size 1296x432 with 1 Axes>"
      ]
     },
     "metadata": {
      "needs_background": "light"
     },
     "output_type": "display_data"
    }
   ],
   "source": [
    "a = mv_data[mv_data['anomaly_pc1'] == 1] #anomaly\n",
    "b = mv_data[mv_data['anomaly_pc2'] == 1] #anomaly\n",
    "plt.figure(figsize=(18,6))\n",
    "plt.plot(mv_data[param], color='blue', label='Normal')\n",
    "plt.plot(a[param], linestyle='none', marker='X', color='red', markersize=12, label='Anomaly1')\n",
    "plt.plot(b[param], linestyle='none', marker='X', color='green', markersize=12, label='Anomaly2')\n",
    "plt.xlabel('Date and Time')\n",
    "plt.ylabel(param)\n",
    "plt.title(param +' Anomalies')\n",
    "plt.legend(loc='best')\n",
    "plt.show();\n"
   ]
  },
  {
   "cell_type": "code",
   "execution_count": 310,
   "id": "toxic-housing",
   "metadata": {},
   "outputs": [
    {
     "name": "stdout",
     "output_type": "stream",
     "text": [
      "<class 'pandas.core.frame.DataFrame'>\n",
      "DatetimeIndex: 20 entries, 2020-07-25 12:20:23.410000+00:00 to 2020-07-27 00:02:30+00:00\n",
      "Data columns (total 8 columns):\n",
      " #   Column       Non-Null Count  Dtype  \n",
      "---  ------       --------------  -----  \n",
      " 0   speed        20 non-null     float64\n",
      " 1   course       20 non-null     float64\n",
      " 2   heading      20 non-null     float64\n",
      " 3   rot          20 non-null     float64\n",
      " 4   pc1          20 non-null     float64\n",
      " 5   pc2          20 non-null     float64\n",
      " 6   anomaly_pc1  20 non-null     int64  \n",
      " 7   anomaly_pc2  20 non-null     int64  \n",
      "dtypes: float64(6), int64(2)\n",
      "memory usage: 1.4 KB\n"
     ]
    }
   ],
   "source": [
    "b.info()\n"
   ]
  },
  {
   "cell_type": "code",
   "execution_count": 311,
   "id": "entitled-strengthening",
   "metadata": {},
   "outputs": [],
   "source": [
    "from sklearn.cluster import KMeans\n",
    "# I will start k-means clustering with k=2 as I already know that there are 3 classes of \"NORMAL\" vs \n",
    "# \"NOT NORMAL\" which are combination of BROKEN\" and\"RECOVERING\"\n",
    "kmeans = KMeans(n_clusters=2, random_state=42)\n",
    "kmeans.fit(principalDf.values)\n",
    "labels = kmeans.predict(principalDf.values)\n",
    "unique_elements, counts_elements = np.unique(labels, return_counts=True)\n",
    "clusters = np.asarray((unique_elements, counts_elements))"
   ]
  },
  {
   "cell_type": "code",
   "execution_count": 312,
   "id": "rocky-standing",
   "metadata": {},
   "outputs": [
    {
     "data": {
      "image/png": "[encoded data removed]",
      "text/plain": [
       "<Figure size 648x504 with 1 Axes>"
      ]
     },
     "metadata": {
      "needs_background": "light"
     },
     "output_type": "display_data"
    }
   ],
   "source": [
    "plt.figure(figsize = (9, 7))\n",
    "plt.bar(clusters[0], clusters[1], tick_label=clusters[0])\n",
    "plt.xlabel('Clusters')\n",
    "plt.ylabel('Number of points')\n",
    "plt.title('Number of points in each cluster')\n",
    "plt.show()"
   ]
  },
  {
   "cell_type": "code",
   "execution_count": 313,
   "id": "infinite-soundtrack",
   "metadata": {},
   "outputs": [
    {
     "data": {
      "image/png": "[encoded data removed]",
      "text/plain": [
       "<Figure size 648x504 with 1 Axes>"
      ]
     },
     "metadata": {
      "needs_background": "light"
     },
     "output_type": "display_data"
    }
   ],
   "source": [
    "plt.figure(figsize=(9,7))\n",
    "plt.scatter(principalDf['pc1'], principalDf['pc2'], c=labels)\n",
    "plt.xlabel('pc1')\n",
    "plt.ylabel('pc2')\n",
    "plt.title('K-means of clustering')\n",
    "plt.show()"
   ]
  },
  {
   "cell_type": "code",
   "execution_count": 314,
   "id": "greater-truth",
   "metadata": {},
   "outputs": [],
   "source": [
    "def getDistanceByPoint(data, model):\n",
    "    \"\"\" Function that calculates the distance between a point and centroid of a cluster, \n",
    "            returns the distances in pandas series\"\"\"\n",
    "    distance = []\n",
    "    for i in range(0,len(data)):\n",
    "        Xa = np.array(data.loc[i])\n",
    "        Xb = model.cluster_centers_[model.labels_[i]-1]\n",
    "        distance.append(np.linalg.norm(Xa-Xb))\n",
    "    return pd.Series(distance, index=data.index)\n"
   ]
  },
  {
   "cell_type": "code",
   "execution_count": 315,
   "id": "given-recommendation",
   "metadata": {},
   "outputs": [],
   "source": [
    "outliers_fraction = 0.13\n",
    "# get the distance between each point and its nearest centroid. The biggest distances are considered as anomaly\n",
    "distance = getDistanceByPoint(principalDf, kmeans)\n",
    "# number of observations that equate to the 13% of the entire data set\n",
    "number_of_outliers = int(outliers_fraction*len(distance))\n",
    "# Take the minimum of the largest 13% of the distances as the threshold\n",
    "threshold = distance.nlargest(number_of_outliers).min()\n",
    "# anomaly1 contain the anomaly result of the above method Cluster (0:normal, 1:anomaly) \n",
    "principalDf['anomaly1'] = (distance >= threshold).astype(int)"
   ]
  },
  {
   "cell_type": "code",
   "execution_count": 316,
   "id": "positive-template",
   "metadata": {},
   "outputs": [
    {
     "data": {
      "text/html": [
       "<div>\n",
       "<style scoped>\n",
       "    .dataframe tbody tr th:only-of-type {\n",
       "        vertical-align: middle;\n",
       "    }\n",
       "\n",
       "    .dataframe tbody tr th {\n",
       "        vertical-align: top;\n",
       "    }\n",
       "\n",
       "    .dataframe thead th {\n",
       "        text-align: right;\n",
       "    }\n",
       "</style>\n",
       "<table border=\"1\" class=\"dataframe\">\n",
       "  <thead>\n",
       "    <tr style=\"text-align: right;\">\n",
       "      <th></th>\n",
       "      <th>pc1</th>\n",
       "      <th>pc2</th>\n",
       "      <th>anomaly1</th>\n",
       "    </tr>\n",
       "  </thead>\n",
       "  <tbody>\n",
       "    <tr>\n",
       "      <th>0</th>\n",
       "      <td>-7.366019</td>\n",
       "      <td>-7.698192</td>\n",
       "      <td>0</td>\n",
       "    </tr>\n",
       "    <tr>\n",
       "      <th>1</th>\n",
       "      <td>-7.369291</td>\n",
       "      <td>-7.698880</td>\n",
       "      <td>0</td>\n",
       "    </tr>\n",
       "    <tr>\n",
       "      <th>2</th>\n",
       "      <td>-7.565949</td>\n",
       "      <td>-2.597924</td>\n",
       "      <td>0</td>\n",
       "    </tr>\n",
       "    <tr>\n",
       "      <th>3</th>\n",
       "      <td>-8.669903</td>\n",
       "      <td>-7.450870</td>\n",
       "      <td>0</td>\n",
       "    </tr>\n",
       "    <tr>\n",
       "      <th>4</th>\n",
       "      <td>-8.669903</td>\n",
       "      <td>-7.450870</td>\n",
       "      <td>0</td>\n",
       "    </tr>\n",
       "  </tbody>\n",
       "</table>\n",
       "</div>"
      ],
      "text/plain": [
       "        pc1       pc2  anomaly1\n",
       "0 -7.366019 -7.698192         0\n",
       "1 -7.369291 -7.698880         0\n",
       "2 -7.565949 -2.597924         0\n",
       "3 -8.669903 -7.450870         0\n",
       "4 -8.669903 -7.450870         0"
      ]
     },
     "execution_count": 316,
     "metadata": {},
     "output_type": "execute_result"
    }
   ],
   "source": [
    "principalDf.head()\n"
   ]
  },
  {
   "cell_type": "code",
   "execution_count": 317,
   "id": "fuzzy-allowance",
   "metadata": {},
   "outputs": [
    {
     "data": {
      "text/plain": [
       "0    155\n",
       "1     23\n",
       "Name: anomaly1, dtype: int64"
      ]
     },
     "execution_count": 317,
     "metadata": {},
     "output_type": "execute_result"
    }
   ],
   "source": [
    "principalDf['anomaly1'].value_counts()\n"
   ]
  },
  {
   "cell_type": "code",
   "execution_count": null,
   "id": "ready-focus",
   "metadata": {},
   "outputs": [],
   "source": []
  },
  {
   "cell_type": "code",
   "execution_count": 318,
   "id": "vanilla-record",
   "metadata": {},
   "outputs": [
    {
     "data": {
      "image/png": "[encoded data removed]",
      "text/plain": [
       "<Figure size 1296x432 with 1 Axes>"
      ]
     },
     "metadata": {
      "needs_background": "light"
     },
     "output_type": "display_data"
    }
   ],
   "source": [
    "mv_data['anomaly1'] = pd.Series(principalDf['anomaly1'].values, index=mv_data.index)\n",
    "a = mv_data[mv_data['anomaly1'] == 1] #anomaly\n",
    "plt.figure(figsize=(18,6))\n",
    "plt.plot(mv_data[param], color='blue', label='Normal')\n",
    "plt.plot(a[param], linestyle='none', marker='X', color='red', markersize=12, label='Anomaly')\n",
    "plt.xlabel('Date and Time')\n",
    "plt.ylabel(param)\n",
    "plt.title('Anomalies')\n",
    "plt.legend(loc='best')\n",
    "plt.show();"
   ]
  },
  {
   "cell_type": "code",
   "execution_count": 319,
   "id": "integrated-miniature",
   "metadata": {},
   "outputs": [],
   "source": [
    "# Import IsolationForest\n",
    "from sklearn.ensemble import IsolationForest\n",
    "# Assume that 13% of the entire data set are anomalies \n",
    "outliers_fraction = 0.13\n",
    "model =  IsolationForest(contamination=outliers_fraction)\n",
    "model.fit(principalDf.values) \n",
    "principalDf['anomaly2'] = pd.Series(model.predict(principalDf.values))"
   ]
  },
  {
   "cell_type": "code",
   "execution_count": 320,
   "id": "tutorial-gates",
   "metadata": {},
   "outputs": [
    {
     "data": {
      "image/png": "[encoded data removed]",
      "text/plain": [
       "<Figure size 1296x432 with 1 Axes>"
      ]
     },
     "metadata": {
      "needs_background": "light"
     },
     "output_type": "display_data"
    }
   ],
   "source": [
    "# visualization\n",
    "mv_data['anomaly2'] = pd.Series(principalDf['anomaly2'].values, index=mv_data.index)\n",
    "a = mv_data.loc[mv_data['anomaly2'] == -1] #anomaly\n",
    "plt.figure(figsize=(18,6))\n",
    "plt.plot(mv_data[param], color='blue', label='Normal')\n",
    "plt.plot(mv_data[param], linestyle='none', marker='X', color='red', markersize=12, label='Anomaly')\n",
    "plt.xlabel('Date and Time')\n",
    "plt.ylabel(param +'Reading')\n",
    "plt.title('Anomalies')\n",
    "plt.legend(loc='best')\n",
    "plt.show();"
   ]
  },
  {
   "cell_type": "code",
   "execution_count": 321,
   "id": "substantial-calculation",
   "metadata": {},
   "outputs": [
    {
     "data": {
      "text/plain": [
       " 1    154\n",
       "-1     24\n",
       "Name: anomaly2, dtype: int64"
      ]
     },
     "execution_count": 321,
     "metadata": {},
     "output_type": "execute_result"
    }
   ],
   "source": [
    "mv_data['anomaly2'].value_counts()"
   ]
  },
  {
   "cell_type": "code",
   "execution_count": null,
   "id": "adjusted-tackle",
   "metadata": {},
   "outputs": [],
   "source": []
  },
  {
   "cell_type": "code",
   "execution_count": null,
   "id": "international-translator",
   "metadata": {},
   "outputs": [],
   "source": []
  },
  {
   "cell_type": "code",
   "execution_count": null,
   "id": "relevant-leone",
   "metadata": {},
   "outputs": [],
   "source": []
  },
  {
   "cell_type": "code",
   "execution_count": null,
   "id": "black-price",
   "metadata": {},
   "outputs": [],
   "source": []
  }
 ],
 "metadata": {
  "kernelspec": {
   "display_name": "Python 3",
   "language": "python",
   "name": "python3"
  },
  "language_info": {
   "codemirror_mode": {
    "name": "ipython",
    "version": 3
   },
   "file_extension": ".py",
   "mimetype": "text/x-python",
   "name": "python",
   "nbconvert_exporter": "python",
   "pygments_lexer": "ipython3",
   "version": "3.6.9"
  }
 },
 "nbformat": 4,
 "nbformat_minor": 5
}
